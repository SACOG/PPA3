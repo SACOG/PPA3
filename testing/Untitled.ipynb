{
 "cells": [
  {
   "cell_type": "code",
   "execution_count": 13,
   "id": "9caeb8b9-6e48-4843-9d3a-a12e1dd5e1c6",
   "metadata": {},
   "outputs": [
    {
     "name": "stdout",
     "output_type": "stream",
     "text": [
      "sde: {'path': '\\\\\\\\arcserver-svr\\\\D\\\\PPA3_SVR\\\\PPA3_GIS_SVR\\\\owner_PPA.sde', 'region_fc': 'sacog_region', 'fc_speed_data': 'npmrds_metrics_v8', 'accdata_fc': 'Sugar_access_data_latest', 'collisions_fc': 'collisions_tims_2015_2019_fwytag', 'trn_svc_fc': 'transit_stopcount_2019', 'freight_route_fc': 'STAATruckRoutes', 'intersections_base_fc': 'intersections_2021', 'comm_types_fc': 'comm_type_jurspec_dissolve', 'reg_centerline_fc': 'RegionalCenterline_Oct2021', 'reg_artcollcline_fc': 'OSM_ArterialCollector_2022', 'reg_bikeway_fc': 'BikeRte_C1_C2_C4_2022', 'proj_line_template_fc': 'Project_Line_Template'}\n",
      "server_data: {'rootdir': '\\\\\\\\arcserver-svr\\\\D\\\\PPA3_SVR', 'gisdir': {'dir_name': 'PPA3_GIS_SVR', 'archived_run_db': 'PPA3_archived_runs_TESTING.gdb', 'svc_root_url': ['https://services.sacog.org/hosting/rest/directories/arcgisjobs']}, 'dir_commd': 'CommunityDesign', 'dir_regpgm': 'RegionalProgram'}\n"
     ]
    }
   ],
   "source": [
    "import yaml\n",
    "import os\n",
    "\n",
    "yaml_file = r\"C:\\Users\\dconly\\GitRepos\\PPA3\\gp-services\\regionalprogram\\rp_title_guidepg\\data_paths.yaml\"\n",
    "\n",
    "with open(yaml_file, 'r') as y:\n",
    "    configs = yaml.load(y, Loader=yaml.FullLoader)\n",
    "\n",
    "for k, v in configs.items():\n",
    "    print(f\"{k}: {v}\") "
   ]
  },
  {
   "cell_type": "code",
   "execution_count": 11,
   "id": "1373b454-9537-4c3f-b8ff-d3698dc80cbd",
   "metadata": {},
   "outputs": [
    {
     "data": {
      "text/plain": [
       "list"
      ]
     },
     "execution_count": 11,
     "metadata": {},
     "output_type": "execute_result"
    }
   ],
   "source": [
    "type(configs['outputs']['report_maps']['svc_root_url'])"
   ]
  }
 ],
 "metadata": {
  "kernelspec": {
   "display_name": "Python 3",
   "language": "python",
   "name": "python3"
  },
  "language_info": {
   "codemirror_mode": {
    "name": "ipython",
    "version": 3
   },
   "file_extension": ".py",
   "mimetype": "text/x-python",
   "name": "python",
   "nbconvert_exporter": "python",
   "pygments_lexer": "ipython3",
   "version": "3.9.11"
  }
 },
 "nbformat": 4,
 "nbformat_minor": 5
}
