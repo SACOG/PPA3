{
 "cells": [
  {
   "cell_type": "code",
   "execution_count": null,
   "id": "4a2e55f1-b531-49b5-8f7c-b01718c09d2c",
   "metadata": {},
   "outputs": [],
   "source": [
    "# GOAL: compute the PPA accessibility metric using Conveyal TIF instead of Sugar SHP.\n",
    "# Ideally, get pop-weighted avg accessibility for all grid cells that intersect project line.\n",
    "\n",
    "# PSUEDO CODE:\n",
    "\n",
    "# load accessibility TIF (e.g., jobs accessible from each cell)\n",
    "\n",
    "# load weight layer TIF (e.g., pop in each cell)\n",
    "\n",
    "# for access and weight layer, select cells that intersect project line (or intersect a tiny buffer around it)\n",
    "#The cells will need to be exact alignment to enable multplication for weighted avgs.\n",
    "\n",
    "# Reference scripts in PEP's access analysis tools\n",
    "# https://github.com/SACOG/PEP1/tree/main/accessibility/conveyal_output_analyzer\n"
   ]
  },
  {
   "cell_type": "code",
   "execution_count": 173,
   "id": "1dc1d570-9e99-419a-98dc-91a3b1647b29",
   "metadata": {},
   "outputs": [],
   "source": [
    "import pandas as pd\n",
    "import arcpy\n",
    "from shapely import wkt\n",
    "import numpy as np\n",
    "import geopandas as gpd\n",
    "import rasterio\n",
    "from rasterio.mask import mask\n",
    "\n",
    "def esri_to_df(esri_obj_path, include_geom, field_list=None, index_field=None, \n",
    "               crs_val=None, dissolve=False):\n",
    "    \"\"\"\n",
    "    Converts ESRI file (File GDB table, SHP, or feature class) to either pandas dataframe\n",
    "    or geopandas geodataframe (if it is spatial data)\n",
    "    esri_obj_path = path to ESRI file\n",
    "    include_geom = True/False on whether you want resulting table to have spatial data (only possible if\n",
    "        input file is spatial)\n",
    "    field_list = list of fields you want to load. No need to specify geometry field name as will be added automatically\n",
    "        if you select include_geom. Optional. By default all fields load.\n",
    "    index_field = if you want to choose a pre-existing field for the dataframe index. Optional.\n",
    "    crs_val = crs, in geopandas CRS string format, that you want to apply to the resulting geodataframe. Optional.\n",
    "    dissolve = True/False indicating if you want the resulting GDF to be dissolved to single feature.\n",
    "    \"\"\"\n",
    "\n",
    "    fields = field_list # should not be necessary, but was having issues where class properties were getting changed with this formula\n",
    "    if not field_list:\n",
    "        fields = [f.name for f in arcpy.ListFields(esri_obj_path)]\n",
    "\n",
    "    if include_geom:\n",
    "        import geopandas as gpd\n",
    "        # by convention, geopandas uses 'geometry' instead of 'SHAPE@' for geom field\n",
    "        f_esrishp = 'SHAPE@'\n",
    "        f_gpdshape = 'geometry'\n",
    "        fields = fields + [f_esrishp]\n",
    "\n",
    "    data_rows = []\n",
    "    with arcpy.da.SearchCursor(esri_obj_path, fields) as cur:\n",
    "        for row in cur:\n",
    "            rowlist = [i for i in row]\n",
    "            if include_geom:\n",
    "                geom_wkt = wkt.loads(rowlist[fields.index(f_esrishp)].WKT)\n",
    "                rowlist[fields.index(f_esrishp)] = geom_wkt\n",
    "            out_row = rowlist\n",
    "            data_rows.append(out_row)  \n",
    "\n",
    "    if include_geom:\n",
    "        fields_gpd = [f for f in fields]\n",
    "        fields_gpd[fields_gpd.index(f_esrishp)] = f_gpdshape\n",
    "        \n",
    "        out_df = gpd.GeoDataFrame(data_rows, columns=fields_gpd, geometry=f_gpdshape)\n",
    "\n",
    "        # only set if the input file has no CRS--this is not same thing as .to_crs(), which merely projects to a CRS\n",
    "        if crs_val: out_df.crs = crs_val\n",
    "\n",
    "        # dissolve to single zone so that, during spatial join, points don't erroneously tag to 2 overlapping zones.\n",
    "        if dissolve and out_df.shape[0] > 1: \n",
    "            out_df = out_df.dissolve() \n",
    "    else:\n",
    "        out_df = pd.DataFrame(data_rows, index=index_field, columns=field_list)\n",
    "\n",
    "    return out_df\n",
    "\n",
    "def get_pts_near_line(tif, line_fc, valname):\n",
    "    crs_to_use = \"EPSG:3857\"\n",
    "\n",
    "    tifdata = rasterio.open(tif)\n",
    "    line_gdf = esri_to_df(esri_obj_path=line_fc, include_geom=True, field_list=None, index_field=None, \n",
    "                   crs_val=crs_to_use, dissolve=False)\n",
    "    line_gdf['geometry'] = line_gdf['geometry'].buffer(100) # distance in meters if EPSG 3857 (web mercator)\n",
    "\n",
    "    mask_geom = line_gdf.geometry[0]\n",
    "    vals_masked, valmasked_transform = mask(tifdata, shapes=[mask_geom], all_touched=True, crop=True, pad=True, pad_width=0.5)\n",
    "    vals_array = vals_masked[0]\n",
    "\n",
    "    # make vector point gdf from the pixels that are near the line. Will need to further trim to go from\n",
    "    # rectangle of points to just points that are right along the line.\n",
    "    # helpful site = https://gis.stackexchange.com/questions/388047/get-coordinates-of-all-pixels-in-a-raster-with-rasterio\n",
    "    vals_array = vals_masked[0]\n",
    "    row_range = np.arange(vals_array.shape[0])\n",
    "    col_range = np.arange(vals_array.shape[1])\n",
    "\n",
    "    coord_arr = []\n",
    "    for r in row_range:\n",
    "        for c in col_range:\n",
    "            x, y = rasterio.transform.xy(valmasked_transform, r, c)\n",
    "            val = vals_array[r][c]\n",
    "            coord_arr.append({'cellid': f\"{r}_{c}\", 'x': x, 'y': y, valname: val})\n",
    "\n",
    "    df = pd.DataFrame(coord_arr)\n",
    "    gdf = gpd.GeoDataFrame(df, geometry=gpd.points_from_xy(df.x, df.y), crs=crs_to_use)\n",
    "    \n",
    "    return gdf"
   ]
  },
  {
   "cell_type": "code",
   "execution_count": 182,
   "id": "1cf70d01-58bb-496d-ac1c-ed4ade3d21f3",
   "metadata": {},
   "outputs": [
    {
     "name": "stdout",
     "output_type": "stream",
     "text": [
      "pop-weighted avg emp access: 82018.4921875\n"
     ]
    },
    {
     "data": {
      "image/png": "[encoded data removed]",
      "text/plain": [
       "<Figure size 640x480 with 1 Axes>"
      ]
     },
     "metadata": {},
     "output_type": "display_data"
    }
   ],
   "source": [
    "# Test selecting specific raster cells that are close to vector line\n",
    "import numpy as np\n",
    "import geopandas as gpd\n",
    "import rasterio\n",
    "from rasterio.mask import mask\n",
    "\n",
    "tif_acc = r\"I:\\Projects\\Darren\\PPA3_GIS\\AccessibilityAnalyses\\tif\\bike_jobs_2020.tif\"\n",
    "tif_wt = r\"I:\\Projects\\Darren\\PPA3_GIS\\AccessibilityAnalyses\\tif\\pop2020.tif\"\n",
    "line_fc = r\"\\\\data-svr\\GIS\\Projects\\Darren\\PPA3_GIS\\PPA3Testing.gdb\\TestBroadway16th\"\n",
    "destination = 'emp'\n",
    "wt = 'pop'\n",
    "\n",
    "gdf_acc = get_pts_near_line(tif_acc, line_fc, destination)\n",
    "gdf_wt = get_pts_near_line(tif_wt, line_fc, wt)\n",
    "\n",
    "acc_pts = gdf_acc.loc[gdf_acc[destination] > 0].plot(column=destination, markersize=30)\n",
    "wt_pts = gdf_wt.loc[gdf_wt[wt] > 0].plot(ax=acc_pts, color='green', markersize=10)\n",
    "line_gdf.plot(ax=acc_pts, color=\"none\", edgecolor='blue')\n",
    "\n",
    "dfjn = gdf_acc.merge(gdf_wt, on='cellid') # pd.concat([gdf_acc, gdf_wt])\n",
    "wtd_avg = (dfjn[destination]*dfjn[wt]).sum() / dfjn['pop'].sum()\n",
    "print(f\"{wt}-weighted avg {destination} access: {wtd_avg}\")"
   ]
  },
  {
   "cell_type": "code",
   "execution_count": 118,
   "id": "449d0970-cfb1-4b42-b659-23b713c2f8ce",
   "metadata": {},
   "outputs": [
    {
     "data": {
      "text/plain": [
       "'I:\\\\Projects\\\\Darren\\\\PPA3_GIS\\\\AccessibilityAnalyses\\\\accessibility_testing.gdb\\\\test'"
      ]
     },
     "execution_count": 118,
     "metadata": {},
     "output_type": "execute_result"
    }
   ],
   "source": [
    "# export to shp via esri stuff\n",
    "import arcpy\n",
    "from arcgis.features import GeoAccessor, GeoSeriesAccessor\n",
    "\n",
    "output_fc = r'I:\\Projects\\Darren\\PPA3_GIS\\AccessibilityAnalyses\\accessibility_testing.gdb\\test'\n",
    "sedf = pd.DataFrame.spatial.from_geodataframe(gdf84)\n",
    "\n",
    "# # make dtypes compatible with exporting to shp\n",
    "# cdict = {'float64':'float'}\n",
    "\n",
    "# for c in sedf.columns:\n",
    "#     c_dt = sedf.dtypes[c].name\n",
    "#     if c_dt in cdict.keys():\n",
    "#         sedf[c] = sedf[c].astype(cdict[c_dt])\n",
    "# sedf.info()\n",
    "\n",
    "sedf.spatial.to_featureclass(output_fc, sanitize_columns=False)"
   ]
  },
  {
   "cell_type": "code",
   "execution_count": 120,
   "id": "eda7e6b5-bb67-488f-815d-248079522df4",
   "metadata": {},
   "outputs": [
    {
     "data": {
      "text/plain": [
       "0    POLYGON ((-13522540.848 4658441.593, -13522539...\n",
       "Name: geometry, dtype: geometry"
      ]
     },
     "execution_count": 120,
     "metadata": {},
     "output_type": "execute_result"
    }
   ],
   "source": [
    "line_gdf.geometry"
   ]
  }
 ],
 "metadata": {
  "kernelspec": {
   "display_name": "Python 3 (ipykernel)",
   "language": "python",
   "name": "python3"
  },
  "language_info": {
   "codemirror_mode": {
    "name": "ipython",
    "version": 3
   },
   "file_extension": ".py",
   "mimetype": "text/x-python",
   "name": "python",
   "nbconvert_exporter": "python",
   "pygments_lexer": "ipython3",
   "version": "3.11.8"
  }
 },
 "nbformat": 4,
 "nbformat_minor": 5
}
