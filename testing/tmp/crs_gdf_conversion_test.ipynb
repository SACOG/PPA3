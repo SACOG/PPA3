{
 "cells": [
  {
   "cell_type": "code",
   "execution_count": 22,
   "id": "0bd6cb1e-1d53-4ee2-aaeb-3e578e2a65dd",
   "metadata": {},
   "outputs": [],
   "source": [
    "# test script.\n",
    "# want to make sure that when loading feature class to geodatframe, that the desired CRS is getting used\n",
    "\n",
    "import geopandas as gpd\n",
    "import arcpy\n",
    "import rasterio\n",
    "\n",
    "from utils import esri_to_df\n",
    "\n",
    "fc_2226 = r'\\\\data-svr\\GIS\\Projects\\Darren\\PPA3_GIS\\PPA3Testing.gdb\\Test_I5SMF'\n",
    "fc_3857 = r'\\\\data-svr\\GIS\\Projects\\Darren\\PPA3_GIS\\PPA3Testing.gdb\\Test_I5SMF_3857'\n",
    "\n",
    "tifpath = r\"\\\\Arcserverppa-svr\\PPA_SVR\\PPA_03_01\\PPA3_GIS_SVR\\access_tif\\pop2020.tif\"\n",
    "\n",
    "target_crs = 'EPSG:3857'\n",
    "\n",
    "# load tif\n",
    "tifdata = rasterio.open(tifpath)\n",
    "tifcrs = tifdata.crs\n",
    "    \n",
    "\n",
    "# loading 2226 gdf using crs_val=target\n",
    "gdf1 = esri_to_df(esri_obj_path=fc_2226, include_geom=True, field_list=None, index_field=None, \n",
    "                    crs_val=target_crs, dissolve=False)\n",
    "\n",
    "# loading 2226 gdf using crs_val = original crs of feature class, then using to_crs() to set crs=target\n",
    "crs_2226_code = arcpy.Describe(fc_2226).spatialReference.factoryCode\n",
    "crs_2226 = f\"EPSG:{crs_2226_code}\"\n",
    "gdf2 = esri_to_df(esri_obj_path=fc_2226, include_geom=True, field_list=None, index_field=None, \n",
    "                    crs_val=crs_2226, dissolve=False).to_crs(target_crs)\n",
    "\n",
    "# loading web mercator version of same line\n",
    "gdf3 = esri_to_df(esri_obj_path=fc_3857, include_geom=True, field_list=None, index_field=None, \n",
    "                    crs_val=target_crs, dissolve=False)"
   ]
  },
  {
   "cell_type": "code",
   "execution_count": 36,
   "id": "35ab9713-a321-47c3-96a1-677e500a7dec",
   "metadata": {},
   "outputs": [
    {
     "data": {
      "image/svg+xml": [
       "<svg xmlns=\"http://www.w3.org/2000/svg\" xmlns:xlink=\"http://www.w3.org/1999/xlink\" width=\"300\" height=\"300\" viewBox=\"-13536571.39282683 4674441.181661364 5952.551947265863 504.54036714322865\" preserveAspectRatio=\"xMinYMin meet\"><g transform=\"matrix(1,0,0,-1,0,9349386.90368987)\"><path fill-rule=\"evenodd\" fill=\"#66cc99\" stroke=\"#555555\" stroke-width=\"39.68367964843909\" opacity=\"0.6\" d=\"M -13530869.28589094,4674721.6465351395 L -13530866.34547305,4674721.500129471 L -13530863.43356434,4674721.066217433 L -13530860.578208085,4674720.348977835 L -13530857.806902923,4674719.355318086 L -13530855.146338042,4674718.094807675 L -13530852.622136133,4674716.579586004 L -13530850.25860664,4674714.824245487 L -13530848.078511646,4674712.845691012 L -13530846.102846658,4674710.662977141 L -13530844.350638408,4674708.297124602 L -13530842.83876162,4674705.770917847 L -13530841.581776494,4674703.1086856285 L -13530840.591788484,4674700.3360667 L -13530839.878331715,4674697.479762893 L -13530839.448277166,4674694.567281979 L -13530839.305766499,4674691.62667274 L -13530839.452172168,4674688.68625485 L -13530839.886084206,4674685.77434614 L -13530840.603323804,4674682.918989884 L -13530841.596983552,4674680.147684723 L -13530842.857493965,4674677.48711984 L -13530844.372715635,4674674.962917931 L -13530846.128056152,4674672.599388439 L -13530848.106610626,4674670.4192934465 L -13530850.289324498,4674668.443628457 L -13530852.655177038,4674666.691420208 L -13530855.181383792,4674665.17954342 L -13530857.84361601,4674663.922558294 L -13530860.61623494,4674662.932570283 L -13530863.472538745,4674662.219113515 L -13530866.38501966,4674661.789058967 L -13530869.325628899,4674661.646548299 L -13536320.947815452,4674665.257154731 L -13536323.888233343,4674665.4035604 L -13536326.800142052,4674665.837472438 L -13536329.655498307,4674666.554712036 L -13536332.42680347,4674667.548371784 L -13536335.08736835,4674668.8088821955 L -13536337.61157026,4674670.324103867 L -13536339.975099752,4674672.079444383 L -13536342.155194746,4674674.057998858 L -13536344.130859734,4674676.240712729 L -13536345.883067984,4674678.606565269 L -13536347.394944772,4674681.132772024 L -13536348.651929898,4674683.795004242 L -13536349.641917909,4674686.567623171 L -13536350.355374677,4674689.423926977 L -13536350.785429226,4674692.3364078915 L -13536350.927939894,4674695.2770171305 L -13536350.781534225,4674698.217435021 L -13536350.347622186,4674701.12934373 L -13536349.630382588,4674703.984699987 L -13536348.63672284,4674706.7560051475 L -13536347.376212427,4674709.41657003 L -13536345.860990757,4674711.940771939 L -13536344.10565024,4674714.304301431 L -13536342.127095766,4674716.484396424 L -13536339.944381895,4674718.460061413 L -13536337.578529354,4674720.212269663 L -13536335.0523226,4674721.724146451 L -13536332.390090382,4674722.981131577 L -13536329.617471453,4674723.971119587 L -13536326.761167647,4674724.684576356 L -13536323.848686732,4674725.114630904 L -13536320.908077493,4674725.2571415715 L -13530869.28589094,4674721.6465351395 z\" /></g></svg>"
      ],
      "text/plain": [
       "<POLYGON ((-13530869.286 4674721.647, -13530866.345 4674721.5, -13530863.434...>"
      ]
     },
     "execution_count": 36,
     "metadata": {},
     "output_type": "execute_result"
    }
   ],
   "source": [
    "gdf2['geometry'][0].buffer(30)"
   ]
  },
  {
   "cell_type": "code",
   "execution_count": 31,
   "id": "b04217c3-9932-43af-b66d-5b312e15d895",
   "metadata": {},
   "outputs": [
    {
     "data": {
      "text/plain": [
       "0    5451.623382\n",
       "dtype: float64"
      ]
     },
     "execution_count": 31,
     "metadata": {},
     "output_type": "execute_result"
    }
   ],
   "source": [
    "gdf2.geometry.length"
   ]
  },
  {
   "cell_type": "code",
   "execution_count": null,
   "id": "9351038f-f618-451d-9386-eb7d923e3863",
   "metadata": {},
   "outputs": [],
   "source": [
    "gdf2['geometry'][0]"
   ]
  }
 ],
 "metadata": {
  "kernelspec": {
   "display_name": "Python 3 (ipykernel)",
   "language": "python",
   "name": "python3"
  },
  "language_info": {
   "codemirror_mode": {
    "name": "ipython",
    "version": 3
   },
   "file_extension": ".py",
   "mimetype": "text/x-python",
   "name": "python",
   "nbconvert_exporter": "python",
   "pygments_lexer": "ipython3",
   "version": "3.11.8"
  }
 },
 "nbformat": 4,
 "nbformat_minor": 5
}
