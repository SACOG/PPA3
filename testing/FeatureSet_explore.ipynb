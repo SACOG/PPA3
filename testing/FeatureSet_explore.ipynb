{
 "cells": [
  {
   "cell_type": "markdown",
   "id": "4bc50174-d7dc-4209-bbab-20689c5fe8b1",
   "metadata": {},
   "source": [
    "# Exploring ESRI feature sets\n",
    "\n",
    "## Context\n",
    "PPA GP services receive the following JSON input:\n",
    "\n",
    "`{\n",
    "\"Project_Line\":$projectLineJsonString.json, \n",
    "\"Project_Name\": $reportConfig.result.projectName, \n",
    "\"Jurisdiction\":$reportConfig.result.jurisdiction, \n",
    "\"Project_ADT\":$reportConfig.result.ADT, \n",
    "\"AADT\": $reportConfig.result.ADT, \n",
    "\"Posted_Speed_Limit\":$reportConfig.result.postedSpeedLimit, \n",
    "\"PCI\":$reportConfig.result.PCI, \n",
    "\"f\":\"json\"\n",
    "}`\n",
    "\n",
    "Importantly, the first entry, `\"Project_Line\":$projectLineJsonString.json`, contains the project geometry, which is originally created by a user drawing a line in a web map.\n",
    "\n",
    "The issue is developing GP tasks happens in Pro local environment, and the input is an [ESRI FeatureSet](https://pro.arcgis.com/en/pro-app/2.8/arcpy/classes/featureset.htm), which apparently can also be created from JSON.\n",
    "\n",
    "This workbook aims to discover a way that a GP task can take JSON as an input without having to use JSONToFeatures.\n"
   ]
  },
  {
   "cell_type": "code",
   "execution_count": 5,
   "id": "074545d3-13a6-4b51-9377-8c74ebb09ad8",
   "metadata": {},
   "outputs": [],
   "source": [
    "import json\n",
    "import arcpy\n",
    "\n",
    "in_json = r\"C:\\Users\\dconly\\GitRepos\\PPA3\\vertigis-deliverables\\input_json_samples\\gp_inputs_ex1.json\"\n",
    "\n",
    "with open(in_json, 'r') as j:\n",
    "    json_loaded = json.load(j)\n",
    "\n",
    "json_s = json.dumps(json_loaded)\n",
    "    \n",
    "k_projline = 'Project_Line'"
   ]
  },
  {
   "cell_type": "code",
   "execution_count": 6,
   "id": "772bdbfe-a132-4c40-8eb5-79eb3cd43519",
   "metadata": {},
   "outputs": [
    {
     "data": {
      "text/plain": [
       "'{\"Project_Line\": {\"geometryType\": \"esriGeometryPolyline\", \"sr\": {\"wkid\": 102642}, \"features\": [{\"geometry\": {\"spatialReference\": {\"wkid\": 102642}, \"paths\": [[[6748148.653240821, 2003155.4099492875], [6745985.7408012925, 2000534.0577610424], [6744517.244861613, 2000591.358323832], [6744483.218642788, 2002526.948155975]]]}}]}, \"Project_Name\": \"test_project\", \"Jurisdiction\": \"example_jurisdiction\", \"Project_ADT\": 1000, \"AADT\": 1000, \"Posted_Speed_Limit\": 35, \"PCI\": 35, \"Project_PCI\": 35, \"userEmail\": \"fake@email.com\", \"f\": \"json\"}'"
      ]
     },
     "execution_count": 6,
     "metadata": {},
     "output_type": "execute_result"
    }
   ],
   "source": [
    "json_s"
   ]
  },
  {
   "cell_type": "code",
   "execution_count": 11,
   "id": "a9c09550-d9dd-40f9-8eec-6ec7e8de8503",
   "metadata": {},
   "outputs": [],
   "source": [
    "geom_s = json.dumps(json_loaded[k_projline])\n",
    "\n",
    "fs_line = arcpy.FeatureSet(geom_s)\n",
    "# fs_line.load(geom_s)"
   ]
  },
  {
   "cell_type": "code",
   "execution_count": 12,
   "id": "0001e731-10c0-424e-83d8-c95b4a636258",
   "metadata": {},
   "outputs": [
    {
     "name": "stdout",
     "output_type": "stream",
     "text": [
      "total length: 6803.9839808715715\n"
     ]
    }
   ],
   "source": [
    "[f.name for f in arcpy.ListFields(fs_line)]\n",
    "\n",
    "slen = 0\n",
    "with arcpy.da.SearchCursor(fs_line, 'SHAPE@LENGTH') as cur:\n",
    "    for row in cur:\n",
    "        slen += row[0]\n",
    "        \n",
    "print(f\"total length: {slen}\")"
   ]
  }
 ],
 "metadata": {
  "kernelspec": {
   "display_name": "Python 3",
   "language": "python",
   "name": "python3"
  },
  "language_info": {
   "codemirror_mode": {
    "name": "ipython",
    "version": 3
   },
   "file_extension": ".py",
   "mimetype": "text/x-python",
   "name": "python",
   "nbconvert_exporter": "python",
   "pygments_lexer": "ipython3",
   "version": "3.9.11"
  }
 },
 "nbformat": 4,
 "nbformat_minor": 5
}
