{
 "cells": [
  {
   "cell_type": "code",
   "execution_count": 10,
   "id": "2407addd-0199-47c0-8b60-bcac3d3f63fe",
   "metadata": {},
   "outputs": [
    {
     "data": {
      "text/plain": [
       "{'SOUTHBOUND_calc_len': 22360.509479063476,\n",
       " 'SOUTHBOUNDff_speed': 28.782254523148556,\n",
       " 'SOUTHBOUNDhavg_spd_worst4hrs': 15.09797348578854,\n",
       " 'SOUTHBOUNDlottr_ampk': 1.4236296182664292,\n",
       " 'SOUTHBOUNDlottr_midday': 1.4262906792112078,\n",
       " 'SOUTHBOUNDlottr_pmpk': 1.4493969231449726,\n",
       " 'SOUTHBOUNDlottr_wknd': 1.4449589790447237,\n",
       " 'NORTHBOUND_calc_len': 22360.50947804221,\n",
       " 'NORTHBOUNDff_speed': 29.12001830253997,\n",
       " 'NORTHBOUNDhavg_spd_worst4hrs': 14.16274182912327,\n",
       " 'NORTHBOUNDlottr_ampk': 1.3784194466762407,\n",
       " 'NORTHBOUNDlottr_midday': 1.376488458887411,\n",
       " 'NORTHBOUNDlottr_pmpk': 1.4757900890316429,\n",
       " 'NORTHBOUNDlottr_wknd': 1.409099597539259}"
      ]
     },
     "execution_count": 10,
     "metadata": {},
     "output_type": "execute_result"
    }
   ],
   "source": [
    "td = {'SOUTHBOUND_calc_len': 22360.509479063476, 'SOUTHBOUNDff_speed': 28.782254523148556, 'SOUTHBOUNDhavg_spd_worst4hrs': 15.09797348578854, 'SOUTHBOUNDlottr_ampk': 1.4236296182664292, 'SOUTHBOUNDlottr_midday': 1.4262906792112078, 'SOUTHBOUNDlottr_pmpk': 1.4493969231449726, 'SOUTHBOUNDlottr_wknd': 1.4449589790447237, 'NORTHBOUND_calc_len': 22360.50947804221, 'NORTHBOUNDff_speed': 29.12001830253997, 'NORTHBOUNDhavg_spd_worst4hrs': 14.16274182912327, 'NORTHBOUNDlottr_ampk': 1.3784194466762407, 'NORTHBOUNDlottr_midday': 1.376488458887411, 'NORTHBOUNDlottr_pmpk': 1.4757900890316429, 'NORTHBOUNDlottr_wknd': 1.409099597539259}\n",
    "\n",
    "td"
   ]
  },
  {
   "cell_type": "code",
   "execution_count": 4,
   "id": "e89bd0b8-f55d-4962-863d-e69d3694ed11",
   "metadata": {},
   "outputs": [
    {
     "data": {
      "text/plain": [
       "{'NORTHBOUND': 'NB', 'SOUTHBOUND': 'SB', 'EASTBOUND': 'EB', 'WESTBOUND': 'WB'}"
      ]
     },
     "execution_count": 4,
     "metadata": {},
     "output_type": "execute_result"
    }
   ],
   "source": [
    "dirn_dict = {\"NB\":\"NORTHBOUND\", \"SB\":\"SOUTHBOUND\", \"EB\":\"EASTBOUND\", \"WB\":\"WESTBOUND\"}\n",
    "dirn_dict_rev = {v:k for k, v in dirn_dict.items()}\n",
    "dirn_dict_rev"
   ]
  },
  {
   "cell_type": "code",
   "execution_count": 16,
   "id": "21a021d4-09a4-41fb-a467-5f901329901e",
   "metadata": {},
   "outputs": [],
   "source": [
    "dks = list(td.keys())\n",
    "setlist = list(set([f\"{i.split('BOUND')[0]}BOUND\" for i in dks]))"
   ]
  },
  {
   "cell_type": "code",
   "execution_count": 15,
   "id": "d36ee6c3-6efa-4243-8e8b-b6fc9850a972",
   "metadata": {},
   "outputs": [
    {
     "data": {
      "text/plain": [
       "'SOUTHBOUND_calc_len'"
      ]
     },
     "execution_count": 15,
     "metadata": {},
     "output_type": "execute_result"
    }
   ],
   "source": [
    "dks[0]"
   ]
  },
  {
   "cell_type": "code",
   "execution_count": 19,
   "id": "7b7631aa-28bb-4f0c-83aa-0b7dbcd552c6",
   "metadata": {},
   "outputs": [
    {
     "data": {
      "text/plain": [
       "{'_calc_len': 22360.50947804221,\n",
       " 'ff_speed': 29.12001830253997,\n",
       " 'havg_spd_worst4hrs': 14.16274182912327,\n",
       " 'lottr_ampk': 1.3784194466762407,\n",
       " 'lottr_midday': 1.376488458887411,\n",
       " 'lottr_pmpk': 1.4757900890316429,\n",
       " 'lottr_wknd': 1.409099597539259}"
      ]
     },
     "execution_count": 19,
     "metadata": {},
     "output_type": "execute_result"
    }
   ],
   "source": [
    "\n",
    "# {k:v for k, v in td.items() if setlist[0] in k}\n",
    "{f\"{k.split('BOUND')[1]}\":v for k, v in td.items()}"
   ]
  },
  {
   "cell_type": "code",
   "execution_count": 20,
   "id": "8e5fc5bb-8d89-4cdd-842e-8d975991fe2d",
   "metadata": {},
   "outputs": [
    {
     "data": {
      "text/plain": [
       "['n', 's']"
      ]
     },
     "execution_count": 20,
     "metadata": {},
     "output_type": "execute_result"
    }
   ],
   "source": [
    "sorted(['n','s'])"
   ]
  }
 ],
 "metadata": {
  "kernelspec": {
   "display_name": "Python 3",
   "language": "python",
   "name": "python3"
  },
  "language_info": {
   "codemirror_mode": {
    "name": "ipython",
    "version": 3
   },
   "file_extension": ".py",
   "mimetype": "text/x-python",
   "name": "python",
   "nbconvert_exporter": "python",
   "pygments_lexer": "ipython3",
   "version": "3.7.11"
  }
 },
 "nbformat": 4,
 "nbformat_minor": 5
}
