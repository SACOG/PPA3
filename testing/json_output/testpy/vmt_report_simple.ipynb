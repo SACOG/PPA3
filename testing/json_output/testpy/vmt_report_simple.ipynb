{
 "cells": [
  {
   "cell_type": "code",
   "execution_count": 49,
   "id": "f500a0bd-e839-467e-9d8d-215e65bf819a",
   "metadata": {},
   "outputs": [],
   "source": [
    "\"\"\"\n",
    "Approach:\n",
    "1 - load all numbers from all reports\n",
    "2 - line-by-line, digit-by-digit populating of JSON file\n",
    "3 - get it to work, refactor later as needed.\n",
    "\"\"\"\n",
    "\n",
    "import os\n",
    "import json\n",
    "import pandas as pd\n",
    "import arcpy\n",
    "arcpy.env.workspace = r'I:\\Projects\\Darren\\PPA_V2_GIS\\PPA_V2.gdb'\n",
    "\n",
    "import ppa_input_params as params\n",
    "from accessibility_calcs import get_acc_data\n",
    "from mix_index_for_project import get_mix_idx\n",
    "from landuse_buff_calcs import LandUseBuffCalcs\n",
    "\n",
    "# load json template\n",
    "in_json = r\"C:\\Users\\dconly\\GitRepos\\PPA3\\testing\\json_output\\SACOG_ReduceVMT_template.json\"\n",
    "with open(in_json, \"r\") as j_in:\n",
    "    json_loaded = json.load(j_in)\n",
    "\n",
    "\n",
    "# specify project line feature class and attributes\n",
    "project_fc = r'I:\\Projects\\Darren\\PPA_V2_GIS\\PPA_V2.gdb\\Polylines'\n",
    "\n",
    "ptype = params.ptype_arterial\n",
    "data_years = [2016, 2040]\n",
    "geo_project = \"Project\"\n",
    "geo_ctype = \"Community Type\"\n",
    "geo_region = \"Region\"\n",
    "\n",
    "\n",
    "# csv table of aggregate values\n",
    "aggval_csv = r\"C:\\Users\\dconly\\GitRepos\\PPA2\\ppa\\Input_Template\\CSV\\Agg_ppa_vals04222020_1017.csv\"\n",
    "\n",
    "# re-used json keys\n",
    "k_charts = \"charts\"\n",
    "k_features = \"features\" # remember, this is a list of dicts\n",
    "k_attrs = \"attributes\"\n",
    "k_year = \"year\"\n",
    "k_type = \"type\"\n",
    "\n",
    "geographies = [geo_project, geo_ctype, geo_region]\n"
   ]
  },
  {
   "cell_type": "code",
   "execution_count": 44,
   "id": "f845fbd4-94b5-4ea2-83bd-9c6a7e87a08c",
   "metadata": {},
   "outputs": [
    {
     "ename": "ExecuteError",
     "evalue": "Failed to execute. Parameters are not valid.\nERROR 000725: Output Feature Class: Dataset C:\\Users\\dconly\\AppData\\Local\\Temp\\scratch.gdb\\temp_intersect_fc already exists.\nFailed to execute (Intersect).\n",
     "output_type": "error",
     "traceback": [
      "\u001b[1;31m---------------------------------------------------------------------------\u001b[0m",
      "\u001b[1;31mExecuteError\u001b[0m                              Traceback (most recent call last)",
      "\u001b[1;32m<ipython-input-44-7c47590e5a2f>\u001b[0m in \u001b[0;36m<module>\u001b[1;34m\u001b[0m\n\u001b[0;32m     34\u001b[0m                          \" {} features in intersect layer.\".format(in_project_cnt, in_project_cnt))\n\u001b[0;32m     35\u001b[0m \u001b[1;33m\u001b[0m\u001b[0m\n\u001b[1;32m---> 36\u001b[1;33m \u001b[0mproject_commtype\u001b[0m \u001b[1;33m=\u001b[0m \u001b[0mget_proj_ctype\u001b[0m\u001b[1;33m(\u001b[0m\u001b[0mproject_fc\u001b[0m\u001b[1;33m,\u001b[0m \u001b[0mparams\u001b[0m\u001b[1;33m.\u001b[0m\u001b[0mcomm_types_fc\u001b[0m\u001b[1;33m)\u001b[0m\u001b[1;33m\u001b[0m\u001b[1;33m\u001b[0m\u001b[0m\n\u001b[0m",
      "\u001b[1;32m<ipython-input-44-7c47590e5a2f>\u001b[0m in \u001b[0;36mget_proj_ctype\u001b[1;34m(in_project_fc, commtypes_fc)\u001b[0m\n\u001b[0;32m      4\u001b[0m     \u001b[0mtemp_intersect_fc\u001b[0m \u001b[1;33m=\u001b[0m \u001b[0mos\u001b[0m\u001b[1;33m.\u001b[0m\u001b[0mpath\u001b[0m\u001b[1;33m.\u001b[0m\u001b[0mjoin\u001b[0m\u001b[1;33m(\u001b[0m\u001b[0marcpy\u001b[0m\u001b[1;33m.\u001b[0m\u001b[0menv\u001b[0m\u001b[1;33m.\u001b[0m\u001b[0mscratchGDB\u001b[0m\u001b[1;33m,\u001b[0m \u001b[1;34m'temp_intersect_fc'\u001b[0m\u001b[1;33m)\u001b[0m \u001b[1;31m# don't use \"memory\", use scratch GDB\u001b[0m\u001b[1;33m\u001b[0m\u001b[1;33m\u001b[0m\u001b[0m\n\u001b[0;32m      5\u001b[0m     arcpy.Intersect_analysis([in_project_fc, commtypes_fc], temp_intersect_fc, \"ALL\", \n\u001b[1;32m----> 6\u001b[1;33m                              0, \"LINE\")\n\u001b[0m\u001b[0;32m      7\u001b[0m \u001b[1;33m\u001b[0m\u001b[0m\n\u001b[0;32m      8\u001b[0m     \u001b[1;31m# debugging messages to find out why ctype tagging intermittently fails\u001b[0m\u001b[1;33m\u001b[0m\u001b[1;33m\u001b[0m\u001b[1;33m\u001b[0m\u001b[0m\n",
      "\u001b[1;32mC:\\Program Files\\ArcGIS\\Pro\\Resources\\ArcPy\\arcpy\\analysis.py\u001b[0m in \u001b[0;36mIntersect\u001b[1;34m(in_features, out_feature_class, join_attributes, cluster_tolerance, output_type)\u001b[0m\n\u001b[0;32m    519\u001b[0m         \u001b[1;32mreturn\u001b[0m \u001b[0mretval\u001b[0m\u001b[1;33m\u001b[0m\u001b[1;33m\u001b[0m\u001b[0m\n\u001b[0;32m    520\u001b[0m     \u001b[1;32mexcept\u001b[0m \u001b[0mException\u001b[0m \u001b[1;32mas\u001b[0m \u001b[0me\u001b[0m\u001b[1;33m:\u001b[0m\u001b[1;33m\u001b[0m\u001b[1;33m\u001b[0m\u001b[0m\n\u001b[1;32m--> 521\u001b[1;33m         \u001b[1;32mraise\u001b[0m \u001b[0me\u001b[0m\u001b[1;33m\u001b[0m\u001b[1;33m\u001b[0m\u001b[0m\n\u001b[0m\u001b[0;32m    522\u001b[0m \u001b[1;33m\u001b[0m\u001b[0m\n\u001b[0;32m    523\u001b[0m \u001b[1;33m@\u001b[0m\u001b[0mgptooldoc\u001b[0m\u001b[1;33m(\u001b[0m\u001b[1;34m'RemoveOverlapMultiple_analysis'\u001b[0m\u001b[1;33m,\u001b[0m \u001b[1;32mNone\u001b[0m\u001b[1;33m)\u001b[0m\u001b[1;33m\u001b[0m\u001b[1;33m\u001b[0m\u001b[0m\n",
      "\u001b[1;32mC:\\Program Files\\ArcGIS\\Pro\\Resources\\ArcPy\\arcpy\\analysis.py\u001b[0m in \u001b[0;36mIntersect\u001b[1;34m(in_features, out_feature_class, join_attributes, cluster_tolerance, output_type)\u001b[0m\n\u001b[0;32m    516\u001b[0m     \u001b[1;32mfrom\u001b[0m \u001b[0marcpy\u001b[0m\u001b[1;33m.\u001b[0m\u001b[0marcobjects\u001b[0m\u001b[1;33m.\u001b[0m\u001b[0marcobjectconversion\u001b[0m \u001b[1;32mimport\u001b[0m \u001b[0mconvertArcObjectToPythonObject\u001b[0m\u001b[1;33m\u001b[0m\u001b[1;33m\u001b[0m\u001b[0m\n\u001b[0;32m    517\u001b[0m     \u001b[1;32mtry\u001b[0m\u001b[1;33m:\u001b[0m\u001b[1;33m\u001b[0m\u001b[1;33m\u001b[0m\u001b[0m\n\u001b[1;32m--> 518\u001b[1;33m         \u001b[0mretval\u001b[0m \u001b[1;33m=\u001b[0m \u001b[0mconvertArcObjectToPythonObject\u001b[0m\u001b[1;33m(\u001b[0m\u001b[0mgp\u001b[0m\u001b[1;33m.\u001b[0m\u001b[0mIntersect_analysis\u001b[0m\u001b[1;33m(\u001b[0m\u001b[1;33m*\u001b[0m\u001b[0mgp_fixargs\u001b[0m\u001b[1;33m(\u001b[0m\u001b[1;33m(\u001b[0m\u001b[0min_features\u001b[0m\u001b[1;33m,\u001b[0m \u001b[0mout_feature_class\u001b[0m\u001b[1;33m,\u001b[0m \u001b[0mjoin_attributes\u001b[0m\u001b[1;33m,\u001b[0m \u001b[0mcluster_tolerance\u001b[0m\u001b[1;33m,\u001b[0m \u001b[0moutput_type\u001b[0m\u001b[1;33m)\u001b[0m\u001b[1;33m,\u001b[0m \u001b[1;32mTrue\u001b[0m\u001b[1;33m)\u001b[0m\u001b[1;33m)\u001b[0m\u001b[1;33m)\u001b[0m\u001b[1;33m\u001b[0m\u001b[1;33m\u001b[0m\u001b[0m\n\u001b[0m\u001b[0;32m    519\u001b[0m         \u001b[1;32mreturn\u001b[0m \u001b[0mretval\u001b[0m\u001b[1;33m\u001b[0m\u001b[1;33m\u001b[0m\u001b[0m\n\u001b[0;32m    520\u001b[0m     \u001b[1;32mexcept\u001b[0m \u001b[0mException\u001b[0m \u001b[1;32mas\u001b[0m \u001b[0me\u001b[0m\u001b[1;33m:\u001b[0m\u001b[1;33m\u001b[0m\u001b[1;33m\u001b[0m\u001b[0m\n",
      "\u001b[1;32mC:\\Program Files\\ArcGIS\\Pro\\Resources\\ArcPy\\arcpy\\geoprocessing\\_base.py\u001b[0m in \u001b[0;36m<lambda>\u001b[1;34m(*args)\u001b[0m\n\u001b[0;32m    510\u001b[0m         \u001b[0mval\u001b[0m \u001b[1;33m=\u001b[0m \u001b[0mgetattr\u001b[0m\u001b[1;33m(\u001b[0m\u001b[0mself\u001b[0m\u001b[1;33m.\u001b[0m\u001b[0m_gp\u001b[0m\u001b[1;33m,\u001b[0m \u001b[0mattr\u001b[0m\u001b[1;33m)\u001b[0m\u001b[1;33m\u001b[0m\u001b[1;33m\u001b[0m\u001b[0m\n\u001b[0;32m    511\u001b[0m         \u001b[1;32mif\u001b[0m \u001b[0mcallable\u001b[0m\u001b[1;33m(\u001b[0m\u001b[0mval\u001b[0m\u001b[1;33m)\u001b[0m\u001b[1;33m:\u001b[0m\u001b[1;33m\u001b[0m\u001b[1;33m\u001b[0m\u001b[0m\n\u001b[1;32m--> 512\u001b[1;33m             \u001b[1;32mreturn\u001b[0m \u001b[1;32mlambda\u001b[0m \u001b[1;33m*\u001b[0m\u001b[0margs\u001b[0m\u001b[1;33m:\u001b[0m \u001b[0mval\u001b[0m\u001b[1;33m(\u001b[0m\u001b[1;33m*\u001b[0m\u001b[0mgp_fixargs\u001b[0m\u001b[1;33m(\u001b[0m\u001b[0margs\u001b[0m\u001b[1;33m,\u001b[0m \u001b[1;32mTrue\u001b[0m\u001b[1;33m)\u001b[0m\u001b[1;33m)\u001b[0m\u001b[1;33m\u001b[0m\u001b[1;33m\u001b[0m\u001b[0m\n\u001b[0m\u001b[0;32m    513\u001b[0m         \u001b[1;32melse\u001b[0m\u001b[1;33m:\u001b[0m\u001b[1;33m\u001b[0m\u001b[1;33m\u001b[0m\u001b[0m\n\u001b[0;32m    514\u001b[0m             \u001b[1;32mreturn\u001b[0m \u001b[0mconvertArcObjectToPythonObject\u001b[0m\u001b[1;33m(\u001b[0m\u001b[0mval\u001b[0m\u001b[1;33m)\u001b[0m\u001b[1;33m\u001b[0m\u001b[1;33m\u001b[0m\u001b[0m\n",
      "\u001b[1;31mExecuteError\u001b[0m: Failed to execute. Parameters are not valid.\nERROR 000725: Output Feature Class: Dataset C:\\Users\\dconly\\AppData\\Local\\Temp\\scratch.gdb\\temp_intersect_fc already exists.\nFailed to execute (Intersect).\n"
     ]
    }
   ],
   "source": [
    "# identify project community type\n",
    "def get_proj_ctype(in_project_fc, commtypes_fc):\n",
    "    '''Get project community type, based on which community type has most spatial overlap with project'''\n",
    "    temp_intersect_fc = os.path.join(arcpy.env.scratchGDB, 'temp_intersect_fc') # don't use \"memory\", use scratch GDB\n",
    "    arcpy.Intersect_analysis([in_project_fc, commtypes_fc], temp_intersect_fc, \"ALL\", \n",
    "                             0, \"LINE\")\n",
    "    \n",
    "    # debugging messages to find out why ctype tagging intermittently fails\n",
    "    intersect_cnt = int(arcpy.GetCount_management(temp_intersect_fc)[0])\n",
    "    in_project_cnt = int(arcpy.GetCount_management(in_project_fc)[0])\n",
    "    arcpy.AddMessage(\"project line feature count: {}\".format(in_project_cnt))\n",
    "    arcpy.AddMessage(\"Project segments after intersecting with comm types: {}\".format(intersect_cnt))\n",
    "    \n",
    "    len_field = 'SHAPE@LENGTH'\n",
    "    fields = ['OBJECTID', len_field, params.col_ctype]\n",
    "    ctype_dist_dict = {}\n",
    "    \n",
    "    with arcpy.da.SearchCursor(temp_intersect_fc, fields) as cur:\n",
    "        for row in cur:\n",
    "            ctype = row[fields.index(params.col_ctype)]\n",
    "            seg_len = row[fields.index(len_field)]\n",
    "        \n",
    "            if ctype_dist_dict.get(ctype) is None:\n",
    "                ctype_dist_dict[ctype] = seg_len\n",
    "            else:\n",
    "                ctype_dist_dict[ctype] += seg_len\n",
    "    try:\n",
    "        maxval = max([v for k, v in ctype_dist_dict.items()])\n",
    "        proj_ctype = [k for k, v in ctype_dist_dict.items() if v == maxval][0]\n",
    "\n",
    "        return proj_ctype\n",
    "    except:\n",
    "        raise ValueError(\"ERROR: No Community Type identified for project. \\n{} project line features.\" \\\n",
    "                         \" {} features in intersect layer.\".format(in_project_cnt, in_project_cnt))\n",
    "        \n",
    "project_commtype = get_proj_ctype(project_fc, params.comm_types_fc)"
   ]
  },
  {
   "cell_type": "code",
   "execution_count": 45,
   "id": "5778d85b-1feb-4ef9-8839-e40d1b7a0df0",
   "metadata": {},
   "outputs": [],
   "source": [
    "# get all applicable comm type and region aggregate values\n",
    "df_agg = pd.read_csv(aggval_csv)\n",
    "metname_col = \"metric_name\"\n",
    "df_agg = df_agg.rename(columns={'Unnamed: 0':metname_col})"
   ]
  },
  {
   "cell_type": "code",
   "execution_count": 46,
   "id": "22a360ad-3c14-4f97-83f4-335a3f6d823f",
   "metadata": {},
   "outputs": [],
   "source": [
    "# calc land use buffer values \n",
    "buffdist_ft = 2640\n",
    "value_fields = ['EMPTOT', 'DU_TOT']\n",
    "\n",
    "out_data = {}\n",
    "for data_year in data_years:\n",
    "    in_pcl_pt_fc = params.parcel_pt_fc_yr(data_year)\n",
    "    year_dict = LandUseBuffCalcs(in_pcl_pt_fc, project_fc, ptype, value_fields, buffdist_ft).point_sum()\n",
    "    out_data[data_year] = year_dict\n",
    "    \n",
    "\n",
    "# update applicable field values in JSON template\n",
    "for i, year in enumerate(data_years):\n",
    "    jobs = out_data[year]['EMPTOT']\n",
    "    du = out_data[year]['DU_TOT']\n",
    "    json_loaded[k_charts][\"Jobs and Dwelling\"][k_features][i][k_attrs]['year'] = year\n",
    "    json_loaded[k_charts][\"Jobs and Dwelling\"][k_features][i][k_attrs]['jobs'] = jobs\n",
    "    json_loaded[k_charts][\"Jobs and Dwelling\"][k_features][i][k_attrs]['dwellingUnits'] = du\n",
    "\n",
    "# print(json.dumps(json_loaded, indent=4))"
   ]
  },
  {
   "cell_type": "code",
   "execution_count": 50,
   "id": "0dee8987-3dcc-44e0-881c-9bf83b9997a6",
   "metadata": {},
   "outputs": [
    {
     "name": "stdout",
     "output_type": "stream",
     "text": [
      "{'charts': {'Jobs and Dwelling': {'title': 'Total Jobs and Dwelling Units within 0.5mi of project', 'features': [{'attributes': {'year': '2016', 'jobs': 1612, 'dwellingUnits': 3147}}, {'attributes': {'year': '2040', 'jobs': 2303, 'dwellingUnits': 4516}}]}, 'Land Use Diversity': {'title': 'Land Use Diversity within 1mi of Project', 'features': [{'attributes': {'type': 'Project', 'diversity 2016': 0.51, 'diversity 2040': 0.56}}, {'attributes': {'type': 'Community Type', 'diversity 2016': 0.74, 'diversity 2040': 0.74}}, {'attributes': {'type': 'Region', 'diversity 2016': 1.0, 'diversity 2040': 0.93}}]}, 'Base Year Service Accessibility': {'title': 'Land Use Diversity within 1mi of Project', 'features': [{'attributes': {'type': '30 Min Walk', 'Project': 22.529602076124565, 'community Type': 17, 'region': 17}}, {'attributes': {'type': '30 Min Biking', 'Project': 190.794785467128, 'community Type': 147, 'region': 140}}, {'attributes': {'type': '15 Min Drive', 'Project': 943.9961937716263, 'community Type': 553, 'region': 520}}, {'attributes': {'type': '45 Min Transit', 'Project': 122.72797923875432, 'community Type': 79, 'region': 78}}]}}}\n"
     ]
    }
   ],
   "source": [
    "# calc accessibility\n",
    "\n",
    "fc_accessibility_data = params.accdata_fc\n",
    "\n",
    "# project level dict\n",
    "dict_data = get_acc_data(project_fc, fc_accessibility_data, ptype)\n",
    "acc_metrics = {'WALKDESTSpoi2':'30 Min Walk', 'BIKEDESTSpoi2':'30 Min Biking', \n",
    "                'AUTODESTSpoi2':'15 Min Drive', 'TRANDESTSpoi2':'45 Min Transit'}\n",
    "dict_data2 = {k:dict_data[k] for k in acc_metrics.keys()}\n",
    "# print(dict_data2)\n",
    "\n",
    "for i, k in enumerate(list(acc_metrics.keys())):\n",
    "    json_loaded[k_charts][\"Base Year Service Accessibility\"][k_features][i][k_attrs][k_type] = acc_metrics[k]\n",
    "    json_loaded[k_charts][\"Base Year Service Accessibility\"][k_features][i][k_attrs][geo_project] = dict_data2[k]\n",
    "\n",
    "print(json_loaded)\n",
    "# aggdatadf_proj = df_agg.loc[df_agg[metname_col].isin(vmt_metrics)][[metname_col, project_commtype, 'year']]\n",
    "\n",
    "\n"
   ]
  },
  {
   "cell_type": "code",
   "execution_count": 37,
   "id": "e74845b0-dc2b-4ea9-8f9c-5cbce02a9c0d",
   "metadata": {},
   "outputs": [
    {
     "data": {
      "text/plain": [
       "{'metric_name': {8: 'WALKDESTSpoi2',\n",
       "  9: 'BIKEDESTSpoi2',\n",
       "  10: 'AUTODESTSpoi2',\n",
       "  11: 'TRANDESTSpoi2'},\n",
       " 'Arterials & Suburban Corridors': {8: 23.408610137958803,\n",
       "  9: 199.25458633185085,\n",
       "  10: 686.1842636258035,\n",
       "  11: 122.29326086755307},\n",
       " 'year': {8: 2016, 9: 2016, 10: 2016, 11: 2016}}"
      ]
     },
     "execution_count": 37,
     "metadata": {},
     "output_type": "execute_result"
    }
   ],
   "source": [
    "aggdatadf_proj = df_agg.loc[df_agg[metname_col].isin(vmt_metrics)][[metname_col, project_commtype, 'year']]\n",
    "aggdatadf_proj.to_dict(orient='dict')"
   ]
  },
  {
   "cell_type": "code",
   "execution_count": 10,
   "id": "05e03f58-89f3-4c63-8ae1-5581761bfd8b",
   "metadata": {},
   "outputs": [
    {
     "name": "stdout",
     "output_type": "stream",
     "text": [
      "{2016: {'mix_index': 0.49111228436332865}, 2040: {'mix_index': 0.5444755587594678}}\n"
     ]
    }
   ],
   "source": [
    "# calc mix index\n",
    "buff_dist_ft = params.mix_index_buffdist  # distance in feet--MIGHT NEED TO BE ADJUSTED FOR WGS 84--SEE OLD TOOL FOR HOW THIS WAS RESOLVED\n",
    "\n",
    "out_dict = {}\n",
    "for data_year in data_years:\n",
    "    in_pcl_pt_fc = params.parcel_pt_fc_yr(in_year=data_year) # input fc of parcel data--must be points!\n",
    "    year_dict = get_mix_idx(in_pcl_pt_fc, project_fc, ptype)\n",
    "    out_dict[data_year] = year_dict\n",
    "\n",
    "print(out_dict)"
   ]
  }
 ],
 "metadata": {
  "kernelspec": {
   "display_name": "Python 3",
   "language": "python",
   "name": "python3"
  },
  "language_info": {
   "codemirror_mode": {
    "name": "ipython",
    "version": 3
   },
   "file_extension": ".py",
   "mimetype": "text/x-python",
   "name": "python",
   "nbconvert_exporter": "python",
   "pygments_lexer": "ipython3",
   "version": "3.7.11"
  }
 },
 "nbformat": 4,
 "nbformat_minor": 5
}
