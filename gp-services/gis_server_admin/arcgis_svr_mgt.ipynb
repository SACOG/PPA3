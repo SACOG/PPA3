{
 "cells": [
  {
   "cell_type": "code",
   "execution_count": 1,
   "id": "ed712baa-d86a-43e5-b5d1-7756e09278de",
   "metadata": {},
   "outputs": [
    {
     "name": "stdin",
     "output_type": "stream",
     "text": [
      "Enter password:  ········\n"
     ]
    },
    {
     "name": "stderr",
     "output_type": "stream",
     "text": [
      "Setting `verify_cert` to False is a security risk, use at your own risk.\n"
     ]
    },
    {
     "name": "stdout",
     "output_type": "stream",
     "text": [
      "connection made to gis object.\n"
     ]
    }
   ],
   "source": [
    "# CREATE CONNECTION TO GIS API\n",
    "import re\n",
    "\n",
    "from arcgis.gis import GIS\n",
    "import arcgis.gis.admin as gisadmin\n",
    "\n",
    "authdict = {}\n",
    "auth_file = 'gis_admin.auth'\n",
    "try:\n",
    "    with open(auth_file, 'r') as f:\n",
    "        rows = f.readlines()\n",
    "        for row in rows:\n",
    "            rs = row.strip('\\n').split('=')\n",
    "            authdict[rs[0].strip(\"\\'\")] = rs[1].strip(\"\\'\")\n",
    "except FileNotFoundError:\n",
    "    raise Exception(f\"PERMISSION ERROR: {auth_file} not found.\")\n",
    "\n",
    "#======================\n",
    "\n",
    "gis = GIS(authdict['portal_url'], authdict['user_name'], verify_cert=False)\n",
    "\n",
    "servers = gis.admin.servers.list()\n",
    "svr_list = [s for s in servers if s.url == authdict['svr_url']]\n",
    "\n",
    "print(\"connection made to gis object.\")\n"
   ]
  },
  {
   "cell_type": "code",
   "execution_count": 3,
   "id": "19a4f7af-bd64-4d34-a81b-0965d974c33d",
   "metadata": {},
   "outputs": [
    {
     "name": "stdout",
     "output_type": "stream",
     "text": [
      "restarting RPArtExpCongestion\n",
      "restarting RPArtExpEconProsp\n",
      "restarting RPArtExpEquity\n",
      "restarting RPArtExpFreight\n",
      "restarting RPArtExpMultiModal\n",
      "restarting RPArtExpSafety\n",
      "restarting RPArtExpSGR\n",
      "restarting RPArtExpVMT\n",
      "restarting RPArtSGRCongestion\n",
      "restarting RPArtSGREconProsp\n",
      "restarting RPArtSGRFreight\n",
      "restarting RPArtSGRSGR\n",
      "restarting RPFwyExpCongestion\n",
      "restarting RPFwyExpEconProsp\n",
      "restarting RPFwyExpFreight\n",
      "restarting RPFwyExpMultiModal\n",
      "restarting RPFwyExpSafety\n",
      "restarting RPFwyExpVMT\n",
      "restarting RPTitleAndGuide\n",
      "Complete. All services restarted.\n"
     ]
    }
   ],
   "source": [
    "# STOP AND RESTART SERVICES\n",
    "# https://support.esri.com/en-us/knowledge-base/how-to-stop-gis-services-using-arcgis-api-for-python-000019994\n",
    "\n",
    "# regex. Use '.*' to run through all services, or alternative regex to filter\n",
    "# common expressions: 'CD.*' to only do community design, 'RP.*' to only do regional program, etc.\n",
    "search_exp = 'RP.*' \n",
    "\n",
    "\n",
    "if len(svr_list) > 0:\n",
    "    svr = svr_list[0]\n",
    "else:\n",
    "    raise Exception(f\"ERROR: server url {svr_url} not found among available servers.\")\n",
    "    \n",
    "for svc in svr.services.list():\n",
    "    svcname = svc.properties['serviceName']\n",
    "    if svc.properties['type'] == 'GPServer' and re.match(search_exp, svcname):\n",
    "        print(f\"restarting {svcname}\")\n",
    "        svc.restart()\n",
    "        \n",
    "print(\"Complete. All services restarted.\")\n"
   ]
  },
  {
   "cell_type": "code",
   "execution_count": 11,
   "id": "90e51c3c-6643-4528-8415-d79dd1700d94",
   "metadata": {},
   "outputs": [
    {
     "name": "stdout",
     "output_type": "stream",
     "text": [
      "CDCompactDev - https://services.sacog.org/gisppa/rest/services/CDCompactDev/GPServer/CDCompactDev\n",
      "CDExistingAssets - https://services.sacog.org/gisppa/rest/services/CDExistingAssets/GPServer/CDExistingAssets\n",
      "CDHousingChoice - https://services.sacog.org/gisppa/rest/services/CDHousingChoice/GPServer/CDHousingChoice\n",
      "CDMixedUse - https://services.sacog.org/gisppa/rest/services/CDMixedUse/GPServer/CDMixedUse\n",
      "CDNaturalResources - https://services.sacog.org/gisppa/rest/services/CDNaturalResources/GPServer/CDNaturalResources\n",
      "CDTranspoChoice - https://services.sacog.org/gisppa/rest/services/CDTranspoChoice/GPServer/CDTranspoChoice\n",
      "RPArtExpCongestion - https://services.sacog.org/gisppa/rest/services/RPArtExpCongestion/GPServer/RPArtExpCongestion\n",
      "RPArtExpEconProsp - https://services.sacog.org/gisppa/rest/services/RPArtExpEconProsp/GPServer/RPArtExpEconProsp\n",
      "RPArtExpEquity - https://services.sacog.org/gisppa/rest/services/RPArtExpEquity/GPServer/RPArtExpEquity\n",
      "RPArtExpFreight - https://services.sacog.org/gisppa/rest/services/RPArtExpFreight/GPServer/RPArtExpFreight\n",
      "RPArtExpMultiModal - https://services.sacog.org/gisppa/rest/services/RPArtExpMultiModal/GPServer/RPArtExpMultiModal\n",
      "RPArtExpSafety - https://services.sacog.org/gisppa/rest/services/RPArtExpSafety/GPServer/RPArtExpSafety\n",
      "RPArtExpSGR - https://services.sacog.org/gisppa/rest/services/RPArtExpSGR/GPServer/RPArtExpSGR\n",
      "RPArtExpVMT - https://services.sacog.org/gisppa/rest/services/RPArtExpVMT/GPServer/RPArtExpVMT\n",
      "RPArtSGRCongestion - https://services.sacog.org/gisppa/rest/services/RPArtSGRCongestion/GPServer/RPArtSGRCongestion\n",
      "RPArtSGREconProsp - https://services.sacog.org/gisppa/rest/services/RPArtSGREconProsp/GPServer/RPArtSGREconProsp\n",
      "RPArtSGRFreight - https://services.sacog.org/gisppa/rest/services/RPArtSGRFreight/GPServer/RPArtSGRFreight\n",
      "RPArtSGRSGR - https://services.sacog.org/gisppa/rest/services/RPArtSGRSGR/GPServer/RPArtSGRSGR\n",
      "RPFwyExpCongestion - https://services.sacog.org/gisppa/rest/services/RPFwyExpCongestion/GPServer/RPFwyExpCongestion\n",
      "RPFwyExpEconProsp - https://services.sacog.org/gisppa/rest/services/RPFwyExpEconProsp/GPServer/RPFwyExpEconProsp\n",
      "RPFwyExpFreight - https://services.sacog.org/gisppa/rest/services/RPFwyExpFreight/GPServer/RPFwyExpFreight\n",
      "RPFwyExpMultiModal - https://services.sacog.org/gisppa/rest/services/RPFwyExpMultiModal/GPServer/RPFwyExpMultiModal\n",
      "RPFwyExpSafety - https://services.sacog.org/gisppa/rest/services/RPFwyExpSafety/GPServer/RPFwyExpSafety\n",
      "RPFwyExpVMT - https://services.sacog.org/gisppa/rest/services/RPFwyExpVMT/GPServer/RPFwyExpVMT\n",
      "RPTitleAndGuide - https://services.sacog.org/gisppa/rest/services/RPTitleAndGuide/GPServer/RPTitleAndGuide\n"
     ]
    }
   ],
   "source": [
    "# LIST SERVICE URLS\n",
    "# Example URL - https://services.sacog.org/gisppa/rest/services/RPArtExpCongestion/GPServer/RPArtExpCongestion\n",
    "\n",
    "for svc in svr.services.list():\n",
    "    if svc.properties['type'] == 'GPServer':\n",
    "        url1 = svc.properties['extensions'][0]['properties']['onlineResource']\n",
    "        old_end = svc.properties['extensions'][0]['typeName']\n",
    "        sname = svc.properties['serviceName']\n",
    "        url1 = url1.replace(old_end, sname)\n",
    "        url1 = url1.replace(\"gisppa/services\", \"gisppa/rest/services\")\n",
    "    \n",
    "        print(sname, '-', url1)"
   ]
  }
 ],
 "metadata": {
  "kernelspec": {
   "display_name": "Python 3 (ipykernel)",
   "language": "python",
   "name": "python3"
  },
  "language_info": {
   "codemirror_mode": {
    "name": "ipython",
    "version": 3
   },
   "file_extension": ".py",
   "mimetype": "text/x-python",
   "name": "python",
   "nbconvert_exporter": "python",
   "pygments_lexer": "ipython3",
   "version": "3.11.10"
  }
 },
 "nbformat": 4,
 "nbformat_minor": 5
}
