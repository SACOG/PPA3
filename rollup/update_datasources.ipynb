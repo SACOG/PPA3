{
 "cells": [
  {
   "cell_type": "code",
   "execution_count": 1,
   "id": "04714d10-0de3-4d22-a668-4a103a88c625",
   "metadata": {},
   "outputs": [],
   "source": [
    "from pathlib import Path\n",
    "from copy import deepcopy\n",
    "\n",
    "import arcpy\n",
    "\n",
    "aprx = r\"I:\\Projects\\Darren\\PPA3_GIS\\PPA3_GIS.aprx\"\n",
    "mapname = 'ItemsToShare'\n",
    "\n",
    "# old_gdb = r'\\\\arcserver-svr\\D\\PPA3_SVR\\PPA3_GIS_SVR\\PPA3_run_data.gdb'\n",
    "new_gdb = r'\\\\Arcserverppa-svr\\PPA_SVR\\PPA_03_01\\PPA3_GIS_SVR\\PPA3_run_data.gdb'\n",
    "\n",
    "aprx_obj = arcpy.mp.ArcGISProject(aprx)\n",
    "map_obj = aprx_obj.listMaps(f\"{mapname}\")[0]\n",
    "\n",
    "master_fc = 'project_master'\n",
    "\n",
    "#====================================\n",
    "\n",
    "def update_stuff(map_item_list):\n",
    "    for i in map_item_list:\n",
    "            if i.connectionProperties:\n",
    "                oldprops = i.connectionProperties\n",
    "                newprops = deepcopy(oldprops)\n",
    "                newprops['connection_info']['database'] = new_gdb\n",
    "                i.updateConnectionProperties(oldprops, newprops)\n",
    "\n",
    "                \n",
    "layers = [l for l in map_obj.listLayers() if l.name == master_fc]              \n",
    "tbls = [t for t in map_obj.listTables()]\n",
    "\n",
    "update_stuff(layers)\n",
    "update_stuff(tbls)\n",
    "\n",
    "aprx_obj.save() # if error, make sure project closed in Pro and that you've restarted notebook kernel\n"
   ]
  }
 ],
 "metadata": {
  "kernelspec": {
   "display_name": "Python 3 (ipykernel)",
   "language": "python",
   "name": "python3"
  },
  "language_info": {
   "codemirror_mode": {
    "name": "ipython",
    "version": 3
   },
   "file_extension": ".py",
   "mimetype": "text/x-python",
   "name": "python",
   "nbconvert_exporter": "python",
   "pygments_lexer": "ipython3",
   "version": "3.11.8"
  }
 },
 "nbformat": 4,
 "nbformat_minor": 5
}
