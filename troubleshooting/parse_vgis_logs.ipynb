{
 "cells": [
  {
   "cell_type": "code",
   "execution_count": 36,
   "id": "da4c4311-1044-4fe4-9a44-40b0e197a780",
   "metadata": {},
   "outputs": [
    {
     "name": "stdout",
     "output_type": "stream",
     "text": [
      "modules loaded.\n"
     ]
    }
   ],
   "source": [
    "\"\"\"\n",
    "desired outputs:\n",
    "    -path to json log\n",
    "    -project type\n",
    "    -report name\n",
    "    -run start date/time\n",
    "    -yes/no if report had error\n",
    "    -if yes error, error message\n",
    "    -anything else that gives insight into root cause\n",
    "    \n",
    "Really need would be summary of total runs, % failed, breakdown of failure causes.\n",
    "\"\"\"\n",
    "\n",
    "from pathlib import Path\n",
    "import json\n",
    "\n",
    "import pandas as pd\n",
    "\n",
    "def parse_json(json_in, run_id=0):\n",
    "    with open(json_in, 'r') as f:\n",
    "        jloaded = json.load(f)\n",
    "        \n",
    "    out_rows = []\n",
    "    \n",
    "    base_row = {}\n",
    "    base_row['run_id'] = run_id\n",
    "    base_row['log_path'] = str(json_in)\n",
    "    base_row['start_time'] = jloaded['start']\n",
    "    base_row['projectType'] = 'unknown'\n",
    "    base_row['projectName'] = 'unknown'\n",
    "    base_row['rpt_name'] = 'unknown'\n",
    "    base_row['email'] = 'unknown'\n",
    "    base_row['error_flag'] = 1\n",
    "    base_row['error_msg'] = 'Other error. See JSON for details.'\n",
    "    \n",
    "    try:\n",
    "        jbase = jloaded['artifacts'][0]['outputs']['output']\n",
    "        base_row['projectType'] = jbase['projectType']\n",
    "        base_row['projectName'] = jbase['projectName']\n",
    "        base_row['email'] = jbase['email']\n",
    "        \n",
    "        for rpt in jbase['reports']:\n",
    "            rpt_row = base_row\n",
    "            rpt_row['rpt_name'] = rpt['name']\n",
    "\n",
    "            rpt_error = False\n",
    "            rpt_errmsg = ''\n",
    "            messages = rpt['gpJob']['messages']\n",
    "            if len(messages) > 0:\n",
    "                for msg in messages:\n",
    "                    if msg['type'] == 'esriJobMessageTypeError':\n",
    "                        rpt_error = True\n",
    "                    if rpt_error and msg['type'] == 'esriJobMessageTypeInformative':\n",
    "                        rpt_errmsg = msg['description']\n",
    "\n",
    "            rpt_row['error_flag'] = int(rpt_error)\n",
    "            rpt_row['error_msg'] = rpt_errmsg\n",
    "\n",
    "            out_rows.append(rpt_row)\n",
    "    except KeyError: # if key error, means significant error and JSON log did not generate as normal\n",
    "        out_rows.append(base_row)\n",
    "\n",
    "        \n",
    "            \n",
    "    return out_rows\n",
    "\n",
    "print(\"modules loaded.\")\n",
    "\n"
   ]
  },
  {
   "cell_type": "code",
   "execution_count": 39,
   "id": "0bda2993-ac28-44e3-8600-2ba6da08c8ec",
   "metadata": {},
   "outputs": [
    {
     "name": "stdout",
     "output_type": "stream",
     "text": [
      "1008 run logs summarized\n"
     ]
    }
   ],
   "source": [
    "# NOTE - to run this script, must be logged in to admin or other account authorized to read from the VGIS workflow folder\n",
    "root_dir = Path(r'\\\\WEBMAPPING-SVR\\Workflow')\n",
    "subdirs = ['0', '1', '2', '3', '4', '5', '6', '7', '8'] # subfolder names within Workflow folder\n",
    "\n",
    "null_row = {'run_id': run_n,\n",
    "            'log_path': 'na',\n",
    "            'start_time': 'na',\n",
    "            'projectType': 'unknown',\n",
    "            'projectName': 'unknown',\n",
    "            'rpt_name': 'unknown',\n",
    "            'email': 'unknown',\n",
    "            'error_flag': 1,\n",
    "            'error_msg': 'Other error. See JSON for details.'\n",
    "           }\n",
    "\n",
    "data_rows = []\n",
    "run_n = 0\n",
    "for sd in subdirs:\n",
    "    dpth = root_dir.joinpath(sd)\n",
    "    logpaths = [i.joinpath('Logs') for i in dpth.glob('*') if i.is_dir()]\n",
    "    for lp in logpaths:\n",
    "        log_files = [i for i in lp.glob('*.json')]\n",
    "        if len(log_files) > 1:\n",
    "            null_row['log_path'] = str(lp)\n",
    "            data_rows.append(null_row)\n",
    "        else:\n",
    "            log_data = parse_json(log_files[0], run_id=run_n)\n",
    "            data_rows += log_data\n",
    "            run_n += 1\n",
    "\n",
    "\n",
    "df = pd.DataFrame(data_rows)\n",
    "unique_logs = df.run_id.drop_duplicates().shape[0]\n",
    "print(f\"{unique_logs} run logs summarized\")\n",
    "\n",
    "\n"
   ]
  },
  {
   "cell_type": "code",
   "execution_count": 35,
   "id": "d68261c9-6ca3-4bb0-9614-2d0db9e21d38",
   "metadata": {},
   "outputs": [
    {
     "data": {
      "text/plain": [
       "(4824, 9)"
      ]
     },
     "execution_count": 35,
     "metadata": {},
     "output_type": "execute_result"
    }
   ],
   "source": [
    "df.shape\n"
   ]
  },
  {
   "cell_type": "code",
   "execution_count": 34,
   "id": "d1b002a3-db0d-4240-99c7-1711e7caa27b",
   "metadata": {},
   "outputs": [
    {
     "data": {
      "text/plain": [
       "error_flag\n",
       "0    878\n",
       "1    130\n",
       "Name: count, dtype: int64"
      ]
     },
     "execution_count": 34,
     "metadata": {},
     "output_type": "execute_result"
    }
   ],
   "source": []
  },
  {
   "cell_type": "code",
   "execution_count": 14,
   "id": "826adeb6-11a3-4f4a-8a90-8b262a9889a1",
   "metadata": {},
   "outputs": [
    {
     "data": {
      "text/plain": [
       "[]"
      ]
     },
     "execution_count": 14,
     "metadata": {},
     "output_type": "execute_result"
    }
   ],
   "source": [
    "jbase['reports'][0]['gpJob']['messages']"
   ]
  }
 ],
 "metadata": {
  "kernelspec": {
   "display_name": "Python 3 (ipykernel)",
   "language": "python",
   "name": "python3"
  },
  "language_info": {
   "codemirror_mode": {
    "name": "ipython",
    "version": 3
   },
   "file_extension": ".py",
   "mimetype": "text/x-python",
   "name": "python",
   "nbconvert_exporter": "python",
   "pygments_lexer": "ipython3",
   "version": "3.11.8"
  }
 },
 "nbformat": 4,
 "nbformat_minor": 5
}
