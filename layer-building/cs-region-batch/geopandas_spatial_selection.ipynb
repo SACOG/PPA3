{
 "cells": [
  {
   "cell_type": "code",
   "execution_count": 13,
   "metadata": {},
   "outputs": [
    {
     "name": "stdout",
     "output_type": "stream",
     "text": [
      "Index(['PARCELID', 'ptotarea', 'pcltotarea', 'mix_index_1mi', 'GISAc', 'TAZ07',\n",
      "       'SUBRAD', 'geometry'],\n",
      "      dtype='object')\n"
     ]
    }
   ],
   "source": [
    "# Purpose: select all dots within X distance of a project line\n",
    "\n",
    "import os\n",
    "import geopandas as gpd\n",
    "from shapely.geometry import Polygon, LineString, Point\n",
    "\n",
    "\n",
    "fgdb = r\"C:\\PPA_CS_batch_temp\\TEMP_PPA_cs_data.gdb\"\n",
    "project_line_fc = \"TestLineEastSac\"\n",
    "pcl_pts_fc = \"parcel_data_pts_SAMPLE\"\n",
    "pcl_cols = ['PARCELID', 'ptotarea', 'pcltotarea', 'mix_index_1mi', 'GISAc', 'TAZ07',\n",
    "       'SUBRAD', 'geometry']\n",
    "\n",
    "# load everything into geodataframes\n",
    "df_line = gpd.GeoDataFrame.from_file(fgdb, layer=project_line_fc, driver=\"OpenFileGDB\")\n",
    "df_pcls = gpd.GeoDataFrame.from_file(fgdb, layer=pcl_pts_fc, driver=\"OpenFileGDB\")[pcl_cols]\n",
    "\n",
    "# make buffer around line\n",
    "geom_buffer = df_line.buffer(1320)[0]\n",
    "\n",
    "print(df_pcls.columns)"
   ]
  },
  {
   "cell_type": "code",
   "execution_count": null,
   "metadata": {},
   "outputs": [],
   "source": []
  },
  {
   "cell_type": "code",
   "execution_count": 7,
   "metadata": {},
   "outputs": [
    {
     "data": {
      "text/plain": [
       "10417153.261394115"
      ]
     },
     "execution_count": 7,
     "metadata": {},
     "output_type": "execute_result"
    }
   ],
   "source": [
    "geom_buffer.area"
   ]
  },
  {
   "cell_type": "code",
   "execution_count": 8,
   "metadata": {},
   "outputs": [
    {
     "data": {
      "text/plain": [
       "5493"
      ]
     },
     "execution_count": 8,
     "metadata": {},
     "output_type": "execute_result"
    }
   ],
   "source": [
    "s_pclpts = df_pcls.geometry\n",
    "\n",
    "sum(s_pclpts.within(geom_buffer))"
   ]
  }
 ],
 "metadata": {
  "kernelspec": {
   "display_name": "Python 3",
   "language": "python",
   "name": "python3"
  },
  "language_info": {
   "codemirror_mode": {
    "name": "ipython",
    "version": 3
   },
   "file_extension": ".py",
   "mimetype": "text/x-python",
   "name": "python",
   "nbconvert_exporter": "python",
   "pygments_lexer": "ipython3",
   "version": "3.7.10"
  }
 },
 "nbformat": 4,
 "nbformat_minor": 4
}
