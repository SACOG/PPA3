{
 "cells": [
  {
   "cell_type": "markdown",
   "id": "850da276-5183-4aa9-a6eb-9e1a573aca61",
   "metadata": {},
   "source": [
    "# Test notebook to PDF\n",
    "here is some example text"
   ]
  },
  {
   "cell_type": "code",
   "execution_count": 5,
   "id": "228614f9-caeb-437c-a898-107b26b36642",
   "metadata": {},
   "outputs": [
    {
     "name": "stdout",
     "output_type": "stream",
     "text": [
      "update completed.\n"
     ]
    }
   ],
   "source": [
    "from pathlib import Path\n",
    "\n",
    "import pandas as pd\n",
    "import arcpy\n",
    "\n",
    "fc_ctypes_in = r'I:\\Projects\\Darren\\PPA3_GIS\\PPA3_GIS.gdb\\Subcommtypes_2025blueprint_final'\n",
    "f_ctype_start = 'comtyp_ppa_in'\n",
    "f_jur = 'Jurisdiction'\n",
    "\n",
    "config_csv = r'commtyp_ppa_config.csv'\n",
    "f_cfg_jur = 'jur'\n",
    "f_cfg_ctyp_plan = 'ctyp_plan'\n",
    "f_cfg_ctypfinal = 'ctyp_ppa'\n",
    "\n",
    "df_cfg = pd.read_csv(config_csv)\n",
    "\n",
    "f_ctyp_final = 'comtyp_ppa_fin'\n",
    "fc_fields = [f.name for f in arcpy.ListFields(fc_ctypes_in)]\n",
    "if f_ctyp_final not in fc_fields:\n",
    "    arcpy.management.AddField(fc_ctypes_in, f_ctyp_final, field_type='TEXT')\n",
    "    \n",
    "fields = [f_ctype_start, f_jur, f_ctyp_final]\n",
    "with arcpy.da.UpdateCursor(fc_ctypes_in, field_names=fields) as ucur:\n",
    "    for row in ucur:\n",
    "        ctplan = row[fields.index(f_ctype_start)]\n",
    "        jur = row[fields.index(f_jur)]\n",
    "        \n",
    "        lkp_results = df_cfg.loc[(df_cfg[f_cfg_ctyp_plan] == ctplan) \\\n",
    "                           & (df_cfg[f_cfg_jur] == jur)][f_cfg_ctypfinal].values\n",
    "        \n",
    "        ctppa = ctplan # by default, final ctype is plan ctype\n",
    "        if len(lkp_results) > 0: # but if specified in config CSV, use that value for final ctype\n",
    "            ctppa = lkp_results[0]\n",
    "        row[fields.index(f_ctyp_final)] = ctppa\n",
    "        ucur.updateRow(row)\n",
    " \n",
    "print(\"update completed.\")"
   ]
  }
 ],
 "metadata": {
  "kernelspec": {
   "display_name": "Python 3 (ipykernel)",
   "language": "python",
   "name": "python3"
  },
  "language_info": {
   "codemirror_mode": {
    "name": "ipython",
    "version": 3
   },
   "file_extension": ".py",
   "mimetype": "text/x-python",
   "name": "python",
   "nbconvert_exporter": "python",
   "pygments_lexer": "ipython3",
   "version": "3.11.8"
  }
 },
 "nbformat": 4,
 "nbformat_minor": 5
}
