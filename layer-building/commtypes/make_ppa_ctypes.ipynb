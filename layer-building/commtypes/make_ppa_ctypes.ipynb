{
 "cells": [
  {
   "cell_type": "code",
   "execution_count": null,
   "id": "228614f9-caeb-437c-a898-107b26b36642",
   "metadata": {},
   "outputs": [],
   "source": [
    "import arcpy\n",
    "\n",
    "fc_ctypes_in = r'I:\\Projects\\Darren\\PPA3_GIS\\PPA3_GIS.gdb\\Subcommtypes_2025blueprint_final'\n",
    "f_ctype_start = 'comtyp_ppa_in'\n",
    "f_jur = 'Jurisdiction'\n",
    "\n",
    "config_csv = 'commtyp_ppa_config.csv'\n",
    "f_cfg_jur = 'comtyp_ppa_in'\n",
    "f_cfg_"
   ]
  }
 ],
 "metadata": {
  "kernelspec": {
   "display_name": "Python 3 (ipykernel)",
   "language": "python",
   "name": "python3"
  },
  "language_info": {
   "codemirror_mode": {
    "name": "ipython",
    "version": 3
   },
   "file_extension": ".py",
   "mimetype": "text/x-python",
   "name": "python",
   "nbconvert_exporter": "python",
   "pygments_lexer": "ipython3",
   "version": "3.11.8"
  }
 },
 "nbformat": 4,
 "nbformat_minor": 5
}
