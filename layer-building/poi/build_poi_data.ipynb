{
 "cells": [
  {
   "cell_type": "code",
   "execution_count": 6,
   "id": "4418921a-3de9-48fd-8b54-c89e5e588676",
   "metadata": {},
   "outputs": [
    {
     "name": "stdout",
     "output_type": "stream",
     "text": [
      "result in I:\\Projects\\Darren\\PPA3_GIS\\CSV\\poi\\ppa_poi.csv\n"
     ]
    },
    {
     "name": "stderr",
     "output_type": "stream",
     "text": [
      "C:\\Users\\dconly\\AppData\\Local\\Temp\\ipykernel_15704\\3505653989.py:32: UserWarning: The following POI categories are not in poi_wts.csv and will not be counted in results:\n",
      "        category\n",
      "corporate_office    1\n",
      "gas_station         1\n",
      "Name: count, dtype: int64\n",
      "  warn(f\"\"\"The following POI categories are not in {wt_csv} and will not be counted in results:\n"
     ]
    }
   ],
   "source": [
    "from warnings import warn\n",
    "from pathlib import Path\n",
    "\n",
    "from pandas import read_csv\n",
    "from arcpy import Describe\n",
    "\n",
    "from esri_file_to_dataframe import esri_to_df\n",
    "\n",
    "poi_fc = r'I:\\Projects\\Darren\\PPA3_GIS\\PPA3_GIS.gdb\\POI_overture_2025'  # r'I:\\Projects\\Darren\\PPA3_GIS\\SHP\\POI_data\\POI.shp'\n",
    "\n",
    "\n",
    "def make_poi_tables(in_fc, output_dir):\n",
    "    target_sref = 'EPSG:4326' # spatial ref used by conveyal\n",
    "    wt_csv = 'poi_wts.csv'\n",
    "    df_wts = read_csv(wt_csv)\n",
    "    f_poicat = 'category'\n",
    "    f_ppacat = 'cat_ppa'\n",
    "    f_destcnt = 'dest_cnt'\n",
    "    \n",
    "    fc_sref = Describe(in_fc).spatialReference.name\n",
    "    df = esri_to_df(in_fc, include_geom=True, crs_val=fc_sref)\n",
    "    df.to_crs(target_sref, inplace=True)\n",
    "    df['x'] = df.geometry.x\n",
    "    df['y'] = df.geometry.y\n",
    "    df = df[[f_poicat, 'x', 'y']]\n",
    "\n",
    "    df = df.merge(df_wts, on=f_poicat, how='left')\n",
    "\n",
    "    df_unmatched = df.loc[df[f_destcnt].isnull()] # poi categories that weren't found in the weights table\n",
    "    if df.loc[df[f_destcnt].isnull()].shape[0] > 0:\n",
    "        unmatched_cats = df_unmatched[f_poicat].value_counts()  # .drop_duplicates().values\n",
    "        warn(f\"\"\"The following POI categories are not in {wt_csv} and will not be counted in results:\n",
    "        {unmatched_cats}\"\"\")\n",
    "        # import pdb; pdb.set_trace()\n",
    "\n",
    "    df = df.loc[~df[f_destcnt].isnull()] # only keep categories that have a lookup value in the poi_wts CSV\n",
    "\n",
    "    # make separate csvs for each category you want to get accessibility numbers for\n",
    "    out_cols = ['x', 'y']\n",
    "    for pcat in df_wts[f_ppacat].drop_duplicates().values:\n",
    "        catcol = f\"{pcat}_dests\"\n",
    "        df[f\"{pcat}_dests\"] = 0 # default value\n",
    "        df.loc[df[f_ppacat] == pcat, catcol] = df[f_destcnt]\n",
    "\n",
    "        out_cols.append(catcol)\n",
    "\n",
    "    outpath = Path(output_dir).joinpath(f\"ppa_poi.csv\")\n",
    "    df[out_cols].to_csv(outpath, index=False)\n",
    "    print(f\"result in {outpath}\")\n",
    "\n",
    "result_dir = r'I:\\Projects\\Darren\\PPA3_GIS\\CSV\\poi'\n",
    "make_poi_tables(poi_fc, result_dir)"
   ]
  },
  {
   "cell_type": "code",
   "execution_count": null,
   "id": "563b54ae-5480-4b06-9fa6-fd40864d53cd",
   "metadata": {},
   "outputs": [],
   "source": []
  }
 ],
 "metadata": {
  "kernelspec": {
   "display_name": "Python 3 (ipykernel)",
   "language": "python",
   "name": "python3"
  },
  "language_info": {
   "codemirror_mode": {
    "name": "ipython",
    "version": 3
   },
   "file_extension": ".py",
   "mimetype": "text/x-python",
   "name": "python",
   "nbconvert_exporter": "python",
   "pygments_lexer": "ipython3",
   "version": "3.11.10"
  }
 },
 "nbformat": 4,
 "nbformat_minor": 5
}
