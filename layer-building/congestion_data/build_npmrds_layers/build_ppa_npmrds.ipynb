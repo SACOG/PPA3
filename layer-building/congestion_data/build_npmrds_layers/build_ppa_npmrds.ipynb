{
 "cells": [
  {
   "cell_type": "code",
   "execution_count": 1,
   "id": "4ed8b7a8-88b8-47bc-8619-19f6bdc645bf",
   "metadata": {},
   "outputs": [],
   "source": [
    "\"\"\"\n",
    "GENERAL STEPS\n",
    "- run sql query to get all non-spatial TMC data and load into dataframe\n",
    "- load shp of NHS segments into geodataframe\n",
    "- left join non-spatial TMC table to NHS geotable\n",
    "- where spatial data missing:\n",
    "    - add \"true_shp\" flag; set to 0 (1 = has true shape, 0 = needs true shape built)\n",
    "    - compute \"stick\" geometry using start/end lat/long vals.\n",
    "    - CHECK TO DO: can you programmatically check if a TMC's start/end points haven't changed, and if not just plug in the geom from the 2021 INRIX file?\n",
    " - export to feature class; DAMS will need to manually correct missing true shapes (how to prioritize?)\n",
    "    \n",
    "\"\"\"\n",
    "\n",
    "import geopandas as gpd\n",
    "import pandas as pd\n",
    "\n",
    "from esri_file_to_dataframe import esri_to_df\n",
    "\n",
    "# true-shape TMCs, but only for NHS\n",
    "shp_tmc_nhs = r\"I:\\Projects\\Darren\\PPA3_GIS\\PPA3_GIS.gdb\\NPMRDS_2023_NHS_SACOG\" # on WIN10-MODEL-2\n",
    "\n",
    "\n",
    "\n",
    "# load shp to gdf\n",
    "shp_fields = ['Tmc']\n",
    "shp_crs = arcpy.Describe(shp_tmc_nhs).spatialReference.factoryCode # 2226 = EPSG code for SACOG region\n",
    "gdf_nhs = esri_to_df(esri_obj_path=shp_tmc_nhs, include_geom=True, field_list=shp_fields, index_field=None, \n",
    "               crs_val=crs_sacog, dissolve=False)\n",
    "\n"
   ]
  },
  {
   "cell_type": "code",
   "execution_count": null,
   "id": "8f9e4be7-260d-4aa9-8103-ffdaf15c6315",
   "metadata": {},
   "outputs": [],
   "source": [
    "# non-spatial data stored in SQL Server\n",
    "npmrds_db = 'NPMRDS'\n",
    "tt_tbl = 'npmrds_2023_alltmc_paxtruck_comb'\n",
    "tmc_txt_tbl = 'npmrds_2023_alltmc_txt' # full TMC network, but lacking spatial true-shape data\n",
    "crs_npmrds_raw = 4326 # WGS 84, the default system for the lat-lon points\n",
    "\n",
    "\n",
    "# run query and load to spatial df\n",
    "print(\"running query for speed data...\")\n",
    "\n",
    "with open('PPA_NPMRDS_metrics_latest.sql', 'w') as f:\n",
    "    sql_template = f.read()\n",
    "    \n",
    "    params = dict(tt_tbl=tt_tbl, tmc_tbl=tmc_txt_tbl)\n",
    "    formatted_sql = sql_template.format(**params)\n",
    "\n",
    "df_npmrds = sqlqry_to_df(query_str=formatted_sql, dbname=npmrds_db)"
   ]
  }
 ],
 "metadata": {
  "kernelspec": {
   "display_name": "Python 3 (ipykernel)",
   "language": "python",
   "name": "python3"
  },
  "language_info": {
   "codemirror_mode": {
    "name": "ipython",
    "version": 3
   },
   "file_extension": ".py",
   "mimetype": "text/x-python",
   "name": "python",
   "nbconvert_exporter": "python",
   "pygments_lexer": "ipython3",
   "version": "3.11.8"
  }
 },
 "nbformat": 4,
 "nbformat_minor": 5
}
