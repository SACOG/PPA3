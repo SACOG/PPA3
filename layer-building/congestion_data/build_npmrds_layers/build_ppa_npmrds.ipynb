{
 "cells": [
  {
   "cell_type": "code",
   "execution_count": 1,
   "id": "4ed8b7a8-88b8-47bc-8619-19f6bdc645bf",
   "metadata": {},
   "outputs": [
    {
     "name": "stdout",
     "output_type": "stream",
     "text": [
      "gdf loaded\n",
      "loading speed data...\n",
      "Executing query. Results loading into dataframe...\n",
      "Successfully executed query in 20.87 minutes. 7677 rows loaded into dataframe.\n",
      "NPMRDS query completed in 20.9 mins.\n",
      "speed data loaded\n",
      "all data loaded\n"
     ]
    }
   ],
   "source": [
    "\"\"\"\n",
    "GENERAL STEPS\n",
    "- run sql query to get all non-spatial TMC data and load into dataframe\n",
    "- load shp of NHS segments into geodataframe\n",
    "- left join non-spatial TMC table to NHS geotable\n",
    "- where spatial data missing:\n",
    "    - add \"true_shp\" flag; set to 0 (1 = has true shape, 0 = needs true shape built)\n",
    "    - compute \"stick\" geometry using start/end lat/long vals.\n",
    "    - CHECK TO DO: can you programmatically check if a TMC's start/end points haven't changed, and if not just plug in the geom from the 2021 INRIX file?\n",
    " - export to feature class; DAMS will need to manually correct missing true shapes (how to prioritize?)\n",
    "    \n",
    "\"\"\"\n",
    "import datetime as dt\n",
    "from time import perf_counter\n",
    "from pathlib import Path\n",
    "\n",
    "import numpy as np\n",
    "import geopandas as gpd\n",
    "import pandas as pd\n",
    "import arcpy\n",
    "from arcgis.features import GeoAccessor, GeoSeriesAccessor\n",
    "\n",
    "\n",
    "from utils import esri_to_df, pts_to_linestring\n",
    "from sqlqry2pandas import sqlqry_to_df\n",
    "\n",
    "\n",
    "#=========INPUTS=========================\n",
    "# true-shape TMCs, but only for NHS\n",
    "shp_tmc_nhs = r\"I:\\Projects\\Darren\\PPA3_GIS\\PPA3_GIS.gdb\\NPMRDS_2023_NHS_SACOG\" # on WIN10-MODEL-2\n",
    "\n",
    "# non-spatial data stored in SQL Server\n",
    "# WARNING - running query takes 20+mins\n",
    "npmrds_db = 'NPMRDS'\n",
    "tt_tbl = 'npmrds_2023_alltmc_paxtruck_comb'\n",
    "tmc_txt_tbl = 'npmrds_2023_alltmc_txt' # full TMC network, but lacking spatial true-shape data\n",
    "data_year = 2023\n",
    "\n",
    "# OPTION to load directly from CSV rather than running long (20min+) query, if CSV available\n",
    "use_speed_csv = False\n",
    "# csv_speed_data = r\"I:\\Projects\\Darren\\PPA3_GIS\\CSV\\NPMRDS\\npmrds_metrics_2023.csv\"\n",
    "\n",
    "\n",
    "\n",
    "#=================BEGIN LOADING=========================\n",
    "# load shp to gdf\n",
    "shp_fields = ['Tmc']\n",
    "crs_sacog_ft = 2226 # SACOG CRS with feet as units\n",
    "shp_native_crs = arcpy.Describe(shp_tmc_nhs).spatialReference.factoryCode\n",
    "gdf_nhs = esri_to_df(esri_obj_path=shp_tmc_nhs, include_geom=True, field_list=shp_fields, index_field=None, \n",
    "               crs_val=crs_sacog_ft, dissolve=False)\n",
    "\n",
    "if gdf_nhs.crs.to_epsg() != crs_sacog_ft:\n",
    "    gdf_nhs = gdf_nhs.to_crs(f\"EPSG:{crs_sacog_ft}\")\n",
    "\n",
    "print('gdf loaded')\n",
    "\n",
    "# load speed data\n",
    "print(\"loading speed data...\")\n",
    "if use_speed_csv:\n",
    "    df_npmrds = pd.read_csv(csv_speed_data)\n",
    "else:\n",
    "    st = perf_counter()\n",
    "    with open('PPA_NPMRDS_metrics_latest.sql', 'r') as f:\n",
    "        sql_template = f.read()\n",
    "\n",
    "        params = dict(tt_tbl=tt_tbl, tmc_tbl=tmc_txt_tbl)\n",
    "        formatted_sql = sql_template.format(**params)\n",
    "\n",
    "    # run query and load to spatial df\n",
    "    df_npmrds = sqlqry_to_df(query_str=formatted_sql, dbname=npmrds_db) \n",
    "    elapsed = round((perf_counter() - st) / 60, 1)\n",
    "    print(f\"NPMRDS query completed in {elapsed} mins.\")\n",
    "\n",
    "print('speed data loaded')\n",
    "    \n",
    "# left join non-spatial TMC table to NHS geotable\n",
    "f_trushp = 'tru_shp_yr'\n",
    "dfjn = df_npmrds.merge(gdf_nhs, how='left', left_on='tmc', right_on='Tmc')\n",
    "dfjn = gpd.GeoDataFrame(dfjn, geometry='geometry')\n",
    "dfjn[f_trushp] = 0 # by default, assume not true shape\n",
    "dfjn.loc[~dfjn['geometry'].isnull(), f_trushp] = data_year # set to 1 if TMC exists in NHS shapefile\n",
    "print('all data loaded')"
   ]
  },
  {
   "cell_type": "code",
   "execution_count": 2,
   "id": "e3c62be9-f804-480d-bf7b-ff479d1c7477",
   "metadata": {},
   "outputs": [],
   "source": [
    "# option to export query results to CSV so you don't have to re-run query every time.\n",
    "csv_speed_data = r\"I:\\Projects\\Darren\\PPA3_GIS\\CSV\\NPMRDS\\npmrds_metrics_2023_20241219.csv\"\n",
    "df_npmrds.to_csv(csv_speed_data, index=False)"
   ]
  },
  {
   "cell_type": "code",
   "execution_count": 21,
   "id": "77a3b747-1315-4f30-a72e-df73d86911f0",
   "metadata": {},
   "outputs": [
    {
     "name": "stderr",
     "output_type": "stream",
     "text": [
      "C:\\Users\\dconly\\AppData\\Local\\ESRI\\conda\\envs\\arcpro-20240520\\Lib\\site-packages\\pyproj\\crs\\crs.py:1293: UserWarning: You will likely lose important projection information when converting to a PROJ string from another format. See: https://proj.org/faq.html#what-is-the-best-format-for-describing-coordinate-reference-systems\n",
      "  proj = self._crs.to_proj4(version=version)\n"
     ]
    },
    {
     "data": {
      "text/plain": [
       "tru_shp_yr\n",
       "2021    3665\n",
       "2023    3080\n",
       "0        932\n",
       "Name: count, dtype: int64"
      ]
     },
     "execution_count": 21,
     "metadata": {},
     "output_type": "execute_result"
    }
   ],
   "source": [
    "# where you can, repurpose geographies from the 2021 SHP from Inrix to reduce amount of manual coding needed\n",
    "# 10/22/2024 - make this more generalized function (e.g., take in some old true-shp file, then use TMCs from it where you can;\n",
    "# and can specify tolerance for using old shape)\n",
    "\n",
    "#================== INPUTS FOR OLD TMC WHOSE SHAPES YOU WANT TO TRY AND REPURPOSE===========\n",
    "shp_old_tmcs = r'I:\\Projects\\Darren\\PPA3_GIS\\PPA3.0_archive.gdb\\INRIX_SHP_2020_2021_SACOG'\n",
    "old_tmc_yr = 2021\n",
    "\n",
    "#================RUN PROCESS TO INSERT GEOM FROM OLDER TMC version where possible===============\n",
    "\n",
    "def insert_links(in_gdf, shps_to_insert, insert_links_yr, dissolve_insert_shps_field, tolerance=0.0017):\n",
    "    from shapely import get_point\n",
    "    \n",
    "    f_gdflat1, f_gdflon1 = 'start_latitude', 'start_longitude'\n",
    "    f_gdflat2, f_gdflon2 = 'end_latitude', 'end_longitude'\n",
    "    \n",
    "    # load shp of links you want to insert\n",
    "    inslink_shp_fields = ['Tmc']\n",
    "    insert_links_crs = arcpy.Describe(shps_to_insert).spatialReference.factoryCode # 2226 = EPSG code for SACOG region\n",
    "    gdf_insert_links = esri_to_df(esri_obj_path=shps_to_insert, include_geom=True, field_list=inslink_shp_fields, index_field=None, \n",
    "                   crs_val=f\"EPSG:{insert_links_crs}\", dissolve=False)\n",
    "\n",
    "    # merge to master df with speed data\n",
    "    gdf_insert_links_prj = gdf_insert_links.to_crs(f\"EPSG:{crs_sacog_ft}\")\n",
    "\n",
    "    # 10/17/1014 intentional duplicate of above to_crs() command due to know recent bug with geopandas.\n",
    "    # more details - https://github.com/geopandas/geopandas/issues/3433\n",
    "    gdf_insert_links_prj = gdf_insert_links.to_crs(f\"EPSG:{crs_sacog_ft}\")\n",
    "    \n",
    "    \n",
    "    # get start/end points for links to insert\n",
    "    f_start_insertlink = 'startpt_inslink'\n",
    "    f_end_insertlink = 'endpt_inslink'\n",
    "    gdf_insert_links_prj = gdf_insert_links_prj.dissolve(by=dissolve_insert_shps_field) \\\n",
    "                        .reset_index() # need dissolve to get rid of multipart geometries before getting end points.\n",
    "    \n",
    "    gdf_insert_links_prj[f_start_insertlink] = get_point(gdf_insert_links_prj.geometry, 0)\n",
    "    gdf_insert_links_prj[f_end_insertlink] = get_point(gdf_insert_links_prj.geometry, -1)\n",
    "\n",
    "    # merge input gdf to gdf of links whose geoms you want to insert where possible\n",
    "    in_gdf = in_gdf.merge(gdf_insert_links_prj, how='left', left_on='tmc', right_on='Tmc', suffixes=('', f'_{insert_links_yr}'))\n",
    "\n",
    "\n",
    "    # compute difference between 2021 vs. latest TMCs' \"stick\" distance \n",
    "    f_spnew, f_epnew = 'start_pt_new', 'end_pt_new'\n",
    "    update_dict = {f_spnew: [f_gdflon1, f_gdflat1],\n",
    "                   f_epnew: [f_gdflon2, f_gdflat2]}\n",
    "\n",
    "    for cname, fields in update_dict.items():\n",
    "        in_gdf[cname] = gpd.points_from_xy(in_gdf[fields[0]], in_gdf[fields[1]], crs=\"EPSG:4326\").to_crs(f\"EPSG:{crs_sacog_ft}\")\n",
    "\n",
    "    # compute diff in distance between start-end pts from new TMC vsl start-end pts of tmc link you want to insert\n",
    "    f_abs_dist_dif = 'abs_dist_dif'\n",
    "    in_gdf[f_abs_dist_dif] = abs(np.sqrt((in_gdf[f_epnew].x - in_gdf[f_spnew].x)**2 + (in_gdf[f_epnew].y - in_gdf[f_spnew].y)**2)\n",
    "                        - np.sqrt((in_gdf[f_end_insertlink].x - in_gdf[f_start_insertlink].x)**2 + (in_gdf[f_end_insertlink].y - in_gdf[f_start_insertlink].y)**2))\n",
    "\n",
    "    dist_units = in_gdf.crs.to_dict()['units']\n",
    "    if in_gdf.crs.to_dict()['units'] != 'us-ft':\n",
    "        print(f'WARNING: distance units are in {dist_units}')\n",
    "\n",
    "    # if not already a tru shp from NHS *and* distance difference between old and new lat/longs is < 1 foot, then sub in the 2021 geometry\n",
    "    # want tight tolerance to minimize gaps or overlapping TMC segments.\n",
    "    in_gdf.loc[(in_gdf[f_trushp] == 0) & (in_gdf[f_abs_dist_dif] < 1), 'geometry'] = in_gdf[f'geometry_{insert_links_yr}']\n",
    "    in_gdf.loc[(in_gdf[f_trushp] == 0) & (in_gdf[f_abs_dist_dif] < 1), f_trushp] = insert_links_yr # set to 2 to reflect TMCs that came from 2021\n",
    "\n",
    "    in_gdf.loc[(in_gdf[f_trushp] == 0), 'geometry'] = in_gdf.apply(lambda x: pts_to_linestring(x, 'start_pt_new', 'end_pt_new'), axis=1)\n",
    "\n",
    "    f_pctdiff_v_trushp = 'pctdiff_v_trushp'\n",
    "    in_gdf[f_pctdiff_v_trushp] = 0 # 0 = link will need manual edit\n",
    "    \n",
    "    # if the \"stick\" length is sufficiently close to the spec file miles, then mark as not needing manual edit\n",
    "    # specifically, if the real length is less than 0.15% different from stick, then consider as not needing manual edit\n",
    "    # (because the \"true\" shape is a straight line)\n",
    "    in_gdf.loc[(in_gdf[f_trushp] == 0), f_pctdiff_v_trushp] = abs(in_gdf['miles'] - (in_gdf['geometry'].length/5280)) / in_gdf['miles']\n",
    "    in_gdf.loc[(in_gdf[f_trushp] == 0) & (in_gdf[f_pctdiff_v_trushp] <= tolerance), f_trushp] = data_year\n",
    "    \n",
    "    # delete unneeded columns\n",
    "    uneeded_geo_cols = [f for f in in_gdf.columns if in_gdf[f].dtype.name == 'geometry' and f != 'geometry']\n",
    "    fields_to_delete = ['start_longitude', 'start_latitude', 'end_longitude', 'end_latitude', \n",
    "                       *uneeded_geo_cols]\n",
    "    for f in fields_to_delete: del in_gdf[f]\n",
    "    \n",
    "    return in_gdf\n",
    "    \n",
    "dfjn = insert_links(in_gdf=dfjn, shps_to_insert=shp_old_tmcs, insert_links_yr=old_tmc_yr, dissolve_insert_shps_field='Tmc')\n",
    "dfjn[f_trushp].value_counts()\n"
   ]
  },
  {
   "cell_type": "code",
   "execution_count": 22,
   "id": "ab7ad2cc-1411-4088-8fa3-12106e7e5352",
   "metadata": {},
   "outputs": [
    {
     "data": {
      "text/plain": [
       "'I:\\\\Projects\\\\Darren\\\\PPA3_GIS\\\\PPA3_GIS.gdb\\\\NPMRDS_2023data_20241024_1051'"
      ]
     },
     "execution_count": 22,
     "metadata": {},
     "output_type": "execute_result"
    }
   ],
   "source": [
    "# export to ESRI feature class\n",
    "sufx = str(dt.datetime.now().strftime('%Y%m%d_%H%M'))\n",
    "outname = f\"NPMRDS_{data_year}data_{sufx}\"\n",
    "out_gdb = r'I:\\Projects\\Darren\\PPA3_GIS\\PPA3_GIS.gdb'\n",
    "out_path = str(Path(out_gdb).joinpath(outname))\n",
    "\n",
    "\n",
    "fields_to_delete = ['tmc_appearance_n',\n",
    "       'start_latitude', 'start_longitude', 'end_latitude', 'end_longitude',\n",
    "       'Tmc', 'Tmc_2021', 'StartLat', 'StartLong',\n",
    "       'EndLat', 'EndLong', 'geometry_2021', 'start_pt_new', 'end_pt_new',\n",
    "       'start_pt_old', 'end_pt_old']\n",
    "\n",
    "\n",
    "sedf = pd.DataFrame.spatial.from_geodataframe(dfjn)\n",
    "output_fields = [f for f in sedf.columns if f not in fields_to_delete]\n",
    "sedf = sedf[output_fields]\n",
    "print(sedf.spatial.to_featureclass(out_path, sanitize_columns=False))"
   ]
  },
  {
   "cell_type": "code",
   "execution_count": 23,
   "id": "2b13a476-d3ca-4fa4-8bcd-38f32f4d141e",
   "metadata": {},
   "outputs": [
    {
     "name": "stdout",
     "output_type": "stream",
     "text": [
      "I:\\Projects\\Darren\\PPA3_GIS\\PPA3_GIS.gdb\\NPMRDS_2023data_20241024_1051\n"
     ]
    }
   ],
   "source": [
    "print('I:\\\\Projects\\\\Darren\\\\PPA3_GIS\\\\PPA3_GIS.gdb\\\\NPMRDS_2023data_20241024_1051')"
   ]
  }
 ],
 "metadata": {
  "kernelspec": {
   "display_name": "Python 3 (ipykernel)",
   "language": "python",
   "name": "python3"
  },
  "language_info": {
   "codemirror_mode": {
    "name": "ipython",
    "version": 3
   },
   "file_extension": ".py",
   "mimetype": "text/x-python",
   "name": "python",
   "nbconvert_exporter": "python",
   "pygments_lexer": "ipython3",
   "version": "3.11.10"
  }
 },
 "nbformat": 4,
 "nbformat_minor": 5
}
