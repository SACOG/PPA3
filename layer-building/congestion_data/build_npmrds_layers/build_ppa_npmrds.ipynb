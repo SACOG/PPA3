{
 "cells": [
  {
   "cell_type": "code",
   "execution_count": 8,
   "id": "4ed8b7a8-88b8-47bc-8619-19f6bdc645bf",
   "metadata": {},
   "outputs": [
    {
     "name": "stdout",
     "output_type": "stream",
     "text": [
      "gdf loaded\n"
     ]
    }
   ],
   "source": [
    "\"\"\"\n",
    "GENERAL STEPS\n",
    "- run sql query to get all non-spatial TMC data and load into dataframe\n",
    "- load shp of NHS segments into geodataframe\n",
    "- left join non-spatial TMC table to NHS geotable\n",
    "- where spatial data missing:\n",
    "    - add \"true_shp\" flag; set to 0 (1 = has true shape, 0 = needs true shape built)\n",
    "    - compute \"stick\" geometry using start/end lat/long vals.\n",
    "    - CHECK TO DO: can you programmatically check if a TMC's start/end points haven't changed, and if not just plug in the geom from the 2021 INRIX file?\n",
    " - export to feature class; DAMS will need to manually correct missing true shapes (how to prioritize?)\n",
    "    \n",
    "\"\"\"\n",
    "\n",
    "import geopandas as gpd\n",
    "import pandas as pd\n",
    "\n",
    "from esri_file_to_dataframe import esri_to_df\n",
    "from sqlqry2pandas import sqlqry_to_df\n",
    "\n",
    "# true-shape TMCs, but only for NHS\n",
    "shp_tmc_nhs = r\"I:\\Projects\\Darren\\PPA3_GIS\\PPA3_GIS.gdb\\NPMRDS_2023_NHS_SACOG\" # on WIN10-MODEL-2\n",
    "\n",
    "\n",
    "\n",
    "# load shp to gdf\n",
    "shp_fields = ['Tmc']\n",
    "shp_crs = arcpy.Describe(shp_tmc_nhs).spatialReference.factoryCode # 2226 = EPSG code for SACOG region\n",
    "gdf_nhs = esri_to_df(esri_obj_path=shp_tmc_nhs, include_geom=True, field_list=shp_fields, index_field=None, \n",
    "               crs_val=shp_crs, dissolve=False)\n",
    "\n",
    "print('gdf loaded')"
   ]
  },
  {
   "cell_type": "code",
   "execution_count": 19,
   "id": "8f9e4be7-260d-4aa9-8103-ffdaf15c6315",
   "metadata": {},
   "outputs": [
    {
     "name": "stdout",
     "output_type": "stream",
     "text": [
      "running query for speed data...\n"
     ]
    }
   ],
   "source": [
    "# non-spatial data stored in SQL Server\n",
    "npmrds_db = 'NPMRDS'\n",
    "tt_tbl = 'npmrds_2023_alltmc_paxtruck_comb'\n",
    "tmc_txt_tbl = 'npmrds_2023_alltmc_txt' # full TMC network, but lacking spatial true-shape data\n",
    "crs_npmrds_raw = 4326 # WGS 84, the default system for the lat-lon points\n",
    "\n",
    "#-------------------\n",
    "with open('PPA_NPMRDS_metrics_latest.sql', 'r') as f:\n",
    "    sql_template = f.read()\n",
    "    \n",
    "    params = dict(tt_tbl=tt_tbl, tmc_tbl=tmc_txt_tbl)\n",
    "    formatted_sql = sql_template.format(**params)\n",
    "\n",
    "# run query and load to spatial df\n",
    "print(\"running query for speed data...\")\n",
    "# df_npmrds = sqlqry_to_df(query_str=formatted_sql, dbname=npmrds_db)"
   ]
  },
  {
   "cell_type": "code",
   "execution_count": 20,
   "id": "9e58cd8b-9984-4248-aa4a-4fc731498622",
   "metadata": {},
   "outputs": [
    {
     "name": "stdout",
     "output_type": "stream",
     "text": [
      "Executing query. Results loading into dataframe...\n",
      "Successfully executed query in 0.0 minutes. 1000 rows loaded into dataframe.\n"
     ]
    }
   ],
   "source": [
    "# testing query func\n",
    "test_str = f'SELECT TOP 1000 * FROM {tt_tbl}'\n",
    "dftest = sqlqry_to_df(query_str=test_str, dbname=npmrds_db)"
   ]
  },
  {
   "cell_type": "code",
   "execution_count": 21,
   "id": "b2c70357-0310-4fa5-9eb2-588e367fc11e",
   "metadata": {},
   "outputs": [
    {
     "data": {
      "text/html": [
       "<div>\n",
       "<style scoped>\n",
       "    .dataframe tbody tr th:only-of-type {\n",
       "        vertical-align: middle;\n",
       "    }\n",
       "\n",
       "    .dataframe tbody tr th {\n",
       "        vertical-align: top;\n",
       "    }\n",
       "\n",
       "    .dataframe thead th {\n",
       "        text-align: right;\n",
       "    }\n",
       "</style>\n",
       "<table border=\"1\" class=\"dataframe\">\n",
       "  <thead>\n",
       "    <tr style=\"text-align: right;\">\n",
       "      <th></th>\n",
       "      <th>tmc_code</th>\n",
       "      <th>measurement_tstamp</th>\n",
       "      <th>speed</th>\n",
       "      <th>historical_average_speed</th>\n",
       "      <th>reference_speed</th>\n",
       "      <th>travel_time_seconds</th>\n",
       "      <th>data_density</th>\n",
       "    </tr>\n",
       "  </thead>\n",
       "  <tbody>\n",
       "    <tr>\n",
       "      <th>0</th>\n",
       "      <td>105P17070</td>\n",
       "      <td>2023-01-01 16:45:00</td>\n",
       "      <td>53.00</td>\n",
       "      <td>62.0</td>\n",
       "      <td>71.0</td>\n",
       "      <td>0.840000</td>\n",
       "      <td>A</td>\n",
       "    </tr>\n",
       "    <tr>\n",
       "      <th>1</th>\n",
       "      <td>105-16661</td>\n",
       "      <td>2023-01-01 07:15:00</td>\n",
       "      <td>48.25</td>\n",
       "      <td>54.0</td>\n",
       "      <td>65.0</td>\n",
       "      <td>140.369995</td>\n",
       "      <td>A</td>\n",
       "    </tr>\n",
       "    <tr>\n",
       "      <th>2</th>\n",
       "      <td>105-16661</td>\n",
       "      <td>2023-01-01 09:30:00</td>\n",
       "      <td>53.50</td>\n",
       "      <td>NaN</td>\n",
       "      <td>65.0</td>\n",
       "      <td>126.599998</td>\n",
       "      <td>A</td>\n",
       "    </tr>\n",
       "    <tr>\n",
       "      <th>3</th>\n",
       "      <td>105-16661</td>\n",
       "      <td>2023-01-01 09:45:00</td>\n",
       "      <td>42.00</td>\n",
       "      <td>NaN</td>\n",
       "      <td>65.0</td>\n",
       "      <td>161.250000</td>\n",
       "      <td>A</td>\n",
       "    </tr>\n",
       "    <tr>\n",
       "      <th>4</th>\n",
       "      <td>105-16661</td>\n",
       "      <td>2023-01-01 11:15:00</td>\n",
       "      <td>45.00</td>\n",
       "      <td>51.0</td>\n",
       "      <td>65.0</td>\n",
       "      <td>150.500000</td>\n",
       "      <td>A</td>\n",
       "    </tr>\n",
       "  </tbody>\n",
       "</table>\n",
       "</div>"
      ],
      "text/plain": [
       "    tmc_code  measurement_tstamp  speed  historical_average_speed  \\\n",
       "0  105P17070 2023-01-01 16:45:00  53.00                      62.0   \n",
       "1  105-16661 2023-01-01 07:15:00  48.25                      54.0   \n",
       "2  105-16661 2023-01-01 09:30:00  53.50                       NaN   \n",
       "3  105-16661 2023-01-01 09:45:00  42.00                       NaN   \n",
       "4  105-16661 2023-01-01 11:15:00  45.00                      51.0   \n",
       "\n",
       "   reference_speed  travel_time_seconds data_density  \n",
       "0             71.0             0.840000            A  \n",
       "1             65.0           140.369995            A  \n",
       "2             65.0           126.599998            A  \n",
       "3             65.0           161.250000            A  \n",
       "4             65.0           150.500000            A  "
      ]
     },
     "execution_count": 21,
     "metadata": {},
     "output_type": "execute_result"
    }
   ],
   "source": [
    "dftest.head()"
   ]
  },
  {
   "cell_type": "code",
   "execution_count": null,
   "id": "532f48c7-0bc7-4f92-bbaf-4b9796f6fef4",
   "metadata": {},
   "outputs": [],
   "source": [
    "# left join non-spatial TMC table to NHS geotable\n",
    "f_trushp = 'tru_shp'\n",
    "dfjn = df_npmrds.merge(gdf_nhs, how='left', left_on='tmc', right_on='Tmc')\n",
    "dfjn[f_trushp] = 0 # by default, assume not true shape\n",
    "dfjn.loc[~dfjn['geometry'].isnull(), f_trushp] = 1 # set to 1 if TMC exists in NHS shapefile\n",
    "\n",
    "\n",
    "# - where spatial data missing:\n",
    "#     - compute \"stick\" geometry using start/end lat/long vals.\n",
    "#     - CHECK TO DO: can you programmatically check if a TMC's start/end points haven't changed, and if not just plug in the geom from the 2021 INRIX file?\n",
    "#  - export to feature class; DAMS will need to manually correct missing true shapes (how to prioritize?)"
   ]
  },
  {
   "cell_type": "code",
   "execution_count": 18,
   "id": "77a3b747-1315-4f30-a72e-df73d86911f0",
   "metadata": {},
   "outputs": [],
   "source": [
    "# TEST CONCEPT: see where you can repurpose geographies from the 2021 SHP from Inrix to reduce amount of manual coding needed\n",
    "shp_fulltmc_2021 = r'I:\\Projects\\Darren\\PPA3_GIS\\PPA3.0_archive.gdb\\INRIX_SHP_2020_2021_SACOG'\n",
    "\n",
    "shp_fields = ['Tmc']\n",
    "shp_crs = arcpy.Describe(shp_fulltmc_2021).spatialReference.factoryCode # 2226 = EPSG code for SACOG region\n",
    "gdf_fulltmc_2021 = esri_to_df(esri_obj_path=shp_fulltmc_2021, include_geom=True, field_list=shp_fields, index_field=None, \n",
    "               crs_val=shp_crs, dissolve=False)"
   ]
  }
 ],
 "metadata": {
  "kernelspec": {
   "display_name": "Python 3 (ipykernel)",
   "language": "python",
   "name": "python3"
  },
  "language_info": {
   "codemirror_mode": {
    "name": "ipython",
    "version": 3
   },
   "file_extension": ".py",
   "mimetype": "text/x-python",
   "name": "python",
   "nbconvert_exporter": "python",
   "pygments_lexer": "ipython3",
   "version": "3.11.8"
  }
 },
 "nbformat": 4,
 "nbformat_minor": 5
}
