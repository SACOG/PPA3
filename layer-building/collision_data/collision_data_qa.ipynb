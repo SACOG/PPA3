{
 "cells": [
  {
   "cell_type": "code",
   "execution_count": 1,
   "id": "5657a739-298d-4425-829f-bedf0d231a16",
   "metadata": {},
   "outputs": [],
   "source": [
    "import pandas as pd\n",
    "\n",
    "from esri_file_to_dataframe import esri_to_df\n",
    "\n",
    "fc = r'I:\\Projects\\Darren\\PPA3_GIS\\PPA3_GIS.gdb\\SACOGCollisions2019to2023'\n",
    "fields = ['CASE_ID', 'gc_qual']\n",
    "\n",
    "rdf = esri_to_df(esri_obj_path=fc, include_geom=False, field_list=fields, index_field=None, \n",
    "               crs_val=None, dissolve=False)"
   ]
  },
  {
   "cell_type": "code",
   "execution_count": 3,
   "id": "6a0a5eaf-acff-48bb-9d2d-783a77534b73",
   "metadata": {},
   "outputs": [
    {
     "data": {
      "text/plain": [
       "(57873,)"
      ]
     },
     "execution_count": 3,
     "metadata": {},
     "output_type": "execute_result"
    }
   ],
   "source": [
    "rdf.CASE_ID.shape"
   ]
  }
 ],
 "metadata": {
  "kernelspec": {
   "display_name": "Python 3 (ipykernel)",
   "language": "python",
   "name": "python3"
  },
  "language_info": {
   "codemirror_mode": {
    "name": "ipython",
    "version": 3
   },
   "file_extension": ".py",
   "mimetype": "text/x-python",
   "name": "python",
   "nbconvert_exporter": "python",
   "pygments_lexer": "ipython3",
   "version": "3.11.10"
  }
 },
 "nbformat": 4,
 "nbformat_minor": 5
}
